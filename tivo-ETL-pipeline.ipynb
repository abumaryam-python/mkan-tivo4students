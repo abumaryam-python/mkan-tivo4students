{
 "cells": [
  {
   "cell_type": "markdown",
   "id": "b8964a0c",
   "metadata": {},
   "source": [
    "# TiVo - ETL Pipeline - Preparing Data for Clustering\n",
    "\n",
    "**NOTE**: All cells that have Excercises in them are marked with `#EXERCISE-TODO-[NO OF EXERCISE]`"
   ]
  },
  {
   "cell_type": "markdown",
   "id": "6f104e18",
   "metadata": {},
   "source": [
    "## Import General Packages"
   ]
  },
  {
   "cell_type": "code",
   "execution_count": null,
   "id": "e34c0e96",
   "metadata": {},
   "outputs": [],
   "source": [
    "%pip install -r requirements.txt"
   ]
  },
  {
   "cell_type": "code",
   "execution_count": 1,
   "id": "f6eebaf9",
   "metadata": {},
   "outputs": [],
   "source": [
    "import pandas as pd # type: ignore\n",
    "import numpy as np # type: ignore\n",
    "import matplotlib.pyplot as plt # type: ignore"
   ]
  },
  {
   "cell_type": "markdown",
   "id": "8fda0b30",
   "metadata": {},
   "source": [
    "## E: Extract and explore the data  (EXTRACT part of ETL pipeline)"
   ]
  },
  {
   "cell_type": "markdown",
   "id": "f7154ce9",
   "metadata": {},
   "source": [
    "### Read in from Excel file"
   ]
  },
  {
   "cell_type": "code",
   "execution_count": 2,
   "id": "1b8e64d8",
   "metadata": {},
   "outputs": [
    {
     "data": {
      "text/html": [
       "<div>\n",
       "<style scoped>\n",
       "    .dataframe tbody tr th:only-of-type {\n",
       "        vertical-align: middle;\n",
       "    }\n",
       "\n",
       "    .dataframe tbody tr th {\n",
       "        vertical-align: top;\n",
       "    }\n",
       "\n",
       "    .dataframe thead th {\n",
       "        text-align: right;\n",
       "    }\n",
       "</style>\n",
       "<table border=\"1\" class=\"dataframe\">\n",
       "  <thead>\n",
       "    <tr style=\"text-align: right;\">\n",
       "      <th></th>\n",
       "      <th>Gender</th>\n",
       "      <th>Education</th>\n",
       "      <th>Income</th>\n",
       "      <th>Age</th>\n",
       "      <th>PurchasePoint</th>\n",
       "      <th>ElecSpend_Annual</th>\n",
       "      <th>Tvhours</th>\n",
       "      <th>TechAdopt</th>\n",
       "      <th>Fav_Feature</th>\n",
       "    </tr>\n",
       "    <tr>\n",
       "      <th>ID</th>\n",
       "      <th></th>\n",
       "      <th></th>\n",
       "      <th></th>\n",
       "      <th></th>\n",
       "      <th></th>\n",
       "      <th></th>\n",
       "      <th></th>\n",
       "      <th></th>\n",
       "      <th></th>\n",
       "    </tr>\n",
       "  </thead>\n",
       "  <tbody>\n",
       "    <tr>\n",
       "      <th>1</th>\n",
       "      <td>male</td>\n",
       "      <td>none</td>\n",
       "      <td>49</td>\n",
       "      <td>30</td>\n",
       "      <td>mass-consumer electronics</td>\n",
       "      <td>420</td>\n",
       "      <td>2</td>\n",
       "      <td>late</td>\n",
       "      <td>saving favorite shows to watch as a family</td>\n",
       "    </tr>\n",
       "    <tr>\n",
       "      <th>2</th>\n",
       "      <td>male</td>\n",
       "      <td>none</td>\n",
       "      <td>46</td>\n",
       "      <td>36</td>\n",
       "      <td>mass-consumer electronics</td>\n",
       "      <td>420</td>\n",
       "      <td>10</td>\n",
       "      <td>late</td>\n",
       "      <td>saving favorite shows to watch as a family</td>\n",
       "    </tr>\n",
       "    <tr>\n",
       "      <th>3</th>\n",
       "      <td>male</td>\n",
       "      <td>BA</td>\n",
       "      <td>58</td>\n",
       "      <td>66</td>\n",
       "      <td>specialty stores</td>\n",
       "      <td>768</td>\n",
       "      <td>0</td>\n",
       "      <td>early</td>\n",
       "      <td>time shifting</td>\n",
       "    </tr>\n",
       "    <tr>\n",
       "      <th>4</th>\n",
       "      <td>male</td>\n",
       "      <td>PhD</td>\n",
       "      <td>51</td>\n",
       "      <td>78</td>\n",
       "      <td>mass-consumer electronics</td>\n",
       "      <td>396</td>\n",
       "      <td>5</td>\n",
       "      <td>late</td>\n",
       "      <td>saving favorite shows to watch as a family</td>\n",
       "    </tr>\n",
       "    <tr>\n",
       "      <th>5</th>\n",
       "      <td>female</td>\n",
       "      <td>none</td>\n",
       "      <td>46</td>\n",
       "      <td>52</td>\n",
       "      <td>mass-consumer electronics</td>\n",
       "      <td>540</td>\n",
       "      <td>2</td>\n",
       "      <td>late</td>\n",
       "      <td>saving favorite shows to watch as a family</td>\n",
       "    </tr>\n",
       "  </tbody>\n",
       "</table>\n",
       "</div>"
      ],
      "text/plain": [
       "    Gender Education  Income  Age              PurchasePoint  \\\n",
       "ID                                                             \n",
       "1     male      none      49   30  mass-consumer electronics   \n",
       "2     male      none      46   36  mass-consumer electronics   \n",
       "3     male        BA      58   66           specialty stores   \n",
       "4     male       PhD      51   78  mass-consumer electronics   \n",
       "5   female      none      46   52  mass-consumer electronics   \n",
       "\n",
       "    ElecSpend_Annual  Tvhours TechAdopt  \\\n",
       "ID                                        \n",
       "1                420        2      late   \n",
       "2                420       10      late   \n",
       "3                768        0     early   \n",
       "4                396        5      late   \n",
       "5                540        2      late   \n",
       "\n",
       "                                   Fav_Feature  \n",
       "ID                                              \n",
       "1   saving favorite shows to watch as a family  \n",
       "2   saving favorite shows to watch as a family  \n",
       "3                                time shifting  \n",
       "4   saving favorite shows to watch as a family  \n",
       "5   saving favorite shows to watch as a family  "
      ]
     },
     "execution_count": 2,
     "metadata": {},
     "output_type": "execute_result"
    }
   ],
   "source": [
    "dtivo_master = pd.read_excel('./data/tivo_subset.xlsx',\n",
    "                             index_col=0)            #Read in the first column (ID) as the index\n",
    "dtivo_master.head()"
   ]
  },
  {
   "cell_type": "markdown",
   "id": "00eeb877",
   "metadata": {},
   "source": [
    "### Get a feel of the data"
   ]
  },
  {
   "cell_type": "code",
   "execution_count": 3,
   "id": "00a85ab0",
   "metadata": {},
   "outputs": [
    {
     "name": "stdout",
     "output_type": "stream",
     "text": [
      "<class 'pandas.core.frame.DataFrame'>\n",
      "Index: 1000 entries, 1 to 1000\n",
      "Data columns (total 9 columns):\n",
      " #   Column            Non-Null Count  Dtype \n",
      "---  ------            --------------  ----- \n",
      " 0   Gender            1000 non-null   object\n",
      " 1   Education         1000 non-null   object\n",
      " 2   Income            1000 non-null   int64 \n",
      " 3   Age               1000 non-null   int64 \n",
      " 4   PurchasePoint     1000 non-null   object\n",
      " 5   ElecSpend_Annual  1000 non-null   int64 \n",
      " 6   Tvhours           1000 non-null   int64 \n",
      " 7   TechAdopt         1000 non-null   object\n",
      " 8   Fav_Feature       1000 non-null   object\n",
      "dtypes: int64(4), object(5)\n",
      "memory usage: 78.1+ KB\n"
     ]
    }
   ],
   "source": [
    "dtivo_master.info()"
   ]
  },
  {
   "cell_type": "markdown",
   "id": "8b221c14",
   "metadata": {},
   "source": [
    "### Exploratory Analyses: explore possible bases for segmentation"
   ]
  },
  {
   "cell_type": "code",
   "execution_count": 4,
   "id": "cf8959f8",
   "metadata": {},
   "outputs": [
    {
     "data": {
      "text/plain": [
       "TechAdopt  Fav_Feature                               \n",
       "early      cool gadget                                   228\n",
       "           schedule control                              221\n",
       "           time shifting                                 221\n",
       "           programming/interactive features              130\n",
       "late       saving favorite shows to watch as a family    200\n",
       "Name: count, dtype: int64"
      ]
     },
     "execution_count": 4,
     "metadata": {},
     "output_type": "execute_result"
    }
   ],
   "source": [
    "dtivo_master.groupby('TechAdopt')['Fav_Feature'].value_counts()"
   ]
  },
  {
   "cell_type": "markdown",
   "id": "b4e28960",
   "metadata": {},
   "source": [
    "*Q: Did we learn anything about the product feature that is of interest to early vs. late adopters?  Which ones will you market to the premium market segment?*"
   ]
  },
  {
   "cell_type": "markdown",
   "id": "2abaeee7",
   "metadata": {},
   "source": [
    "Ans:"
   ]
  },
  {
   "cell_type": "code",
   "execution_count": null,
   "id": "bdc8a265",
   "metadata": {},
   "outputs": [],
   "source": [
    "#EXERCISE-TODO-01: Obtain grouped value counts for Purchase_Point\n",
    "#and write in commentary under it, what ordinal scale would\n",
    "#suitable?\n",
    "dtivo_master.groupby('TechAdopt')[__________________].value_counts()\n"
   ]
  },
  {
   "cell_type": "markdown",
   "id": "6188dffe",
   "metadata": {},
   "source": [
    "## T: Data Transformations  (TRANSFORM part of ETL pipeline)"
   ]
  },
  {
   "cell_type": "code",
   "execution_count": 6,
   "id": "c137e5ce",
   "metadata": {},
   "outputs": [],
   "source": [
    "#Make a copy of the master DataFrame to apply\n",
    "#transformations to.  We may need the original master file\n",
    "#so this is a good practice to apply transformations to a copy\n",
    "dtivo = dtivo_master.copy()"
   ]
  },
  {
   "cell_type": "markdown",
   "id": "e4bc985b",
   "metadata": {},
   "source": [
    "### Factorizations"
   ]
  },
  {
   "cell_type": "markdown",
   "id": "46bc4bd4",
   "metadata": {},
   "source": [
    "#### Fav_Feature"
   ]
  },
  {
   "cell_type": "code",
   "execution_count": 18,
   "id": "32703d41",
   "metadata": {},
   "outputs": [
    {
     "name": "stdout",
     "output_type": "stream",
     "text": [
      "Index(['saving favorite shows to watch as a family', 'time shifting',\n",
      "       'cool gadget', 'schedule control', 'programming/interactive features'],\n",
      "      dtype='object')\n"
     ]
    }
   ],
   "source": [
    "#Map the zipped dictionary from 'Fav_Feature' to 'Fav_Coded'\n",
    "dtivo['Fav_Coded'], fav_uniques = dtivo['Fav_Feature'].factorize()\n",
    "print(fav_uniques)\n"
   ]
  },
  {
   "cell_type": "code",
   "execution_count": 19,
   "id": "0ae9627b",
   "metadata": {},
   "outputs": [
    {
     "data": {
      "text/html": [
       "<div>\n",
       "<style scoped>\n",
       "    .dataframe tbody tr th:only-of-type {\n",
       "        vertical-align: middle;\n",
       "    }\n",
       "\n",
       "    .dataframe tbody tr th {\n",
       "        vertical-align: top;\n",
       "    }\n",
       "\n",
       "    .dataframe thead th {\n",
       "        text-align: right;\n",
       "    }\n",
       "</style>\n",
       "<table border=\"1\" class=\"dataframe\">\n",
       "  <thead>\n",
       "    <tr style=\"text-align: right;\">\n",
       "      <th></th>\n",
       "      <th>Gender</th>\n",
       "      <th>Education</th>\n",
       "      <th>Income</th>\n",
       "      <th>Age</th>\n",
       "      <th>PurchasePoint</th>\n",
       "      <th>ElecSpend_Annual</th>\n",
       "      <th>Tvhours</th>\n",
       "      <th>TechAdopt</th>\n",
       "      <th>Fav_Feature</th>\n",
       "      <th>Fav_Coded</th>\n",
       "    </tr>\n",
       "    <tr>\n",
       "      <th>ID</th>\n",
       "      <th></th>\n",
       "      <th></th>\n",
       "      <th></th>\n",
       "      <th></th>\n",
       "      <th></th>\n",
       "      <th></th>\n",
       "      <th></th>\n",
       "      <th></th>\n",
       "      <th></th>\n",
       "      <th></th>\n",
       "    </tr>\n",
       "  </thead>\n",
       "  <tbody>\n",
       "    <tr>\n",
       "      <th>1</th>\n",
       "      <td>male</td>\n",
       "      <td>none</td>\n",
       "      <td>49</td>\n",
       "      <td>30</td>\n",
       "      <td>mass-consumer electronics</td>\n",
       "      <td>420</td>\n",
       "      <td>2</td>\n",
       "      <td>late</td>\n",
       "      <td>saving favorite shows to watch as a family</td>\n",
       "      <td>0</td>\n",
       "    </tr>\n",
       "    <tr>\n",
       "      <th>2</th>\n",
       "      <td>male</td>\n",
       "      <td>none</td>\n",
       "      <td>46</td>\n",
       "      <td>36</td>\n",
       "      <td>mass-consumer electronics</td>\n",
       "      <td>420</td>\n",
       "      <td>10</td>\n",
       "      <td>late</td>\n",
       "      <td>saving favorite shows to watch as a family</td>\n",
       "      <td>0</td>\n",
       "    </tr>\n",
       "    <tr>\n",
       "      <th>3</th>\n",
       "      <td>male</td>\n",
       "      <td>BA</td>\n",
       "      <td>58</td>\n",
       "      <td>66</td>\n",
       "      <td>specialty stores</td>\n",
       "      <td>768</td>\n",
       "      <td>0</td>\n",
       "      <td>early</td>\n",
       "      <td>time shifting</td>\n",
       "      <td>1</td>\n",
       "    </tr>\n",
       "    <tr>\n",
       "      <th>4</th>\n",
       "      <td>male</td>\n",
       "      <td>PhD</td>\n",
       "      <td>51</td>\n",
       "      <td>78</td>\n",
       "      <td>mass-consumer electronics</td>\n",
       "      <td>396</td>\n",
       "      <td>5</td>\n",
       "      <td>late</td>\n",
       "      <td>saving favorite shows to watch as a family</td>\n",
       "      <td>0</td>\n",
       "    </tr>\n",
       "    <tr>\n",
       "      <th>5</th>\n",
       "      <td>female</td>\n",
       "      <td>none</td>\n",
       "      <td>46</td>\n",
       "      <td>52</td>\n",
       "      <td>mass-consumer electronics</td>\n",
       "      <td>540</td>\n",
       "      <td>2</td>\n",
       "      <td>late</td>\n",
       "      <td>saving favorite shows to watch as a family</td>\n",
       "      <td>0</td>\n",
       "    </tr>\n",
       "    <tr>\n",
       "      <th>6</th>\n",
       "      <td>female</td>\n",
       "      <td>BA</td>\n",
       "      <td>31</td>\n",
       "      <td>72</td>\n",
       "      <td>retail</td>\n",
       "      <td>168</td>\n",
       "      <td>1</td>\n",
       "      <td>early</td>\n",
       "      <td>time shifting</td>\n",
       "      <td>1</td>\n",
       "    </tr>\n",
       "    <tr>\n",
       "      <th>7</th>\n",
       "      <td>male</td>\n",
       "      <td>none</td>\n",
       "      <td>33</td>\n",
       "      <td>62</td>\n",
       "      <td>discount</td>\n",
       "      <td>216</td>\n",
       "      <td>0</td>\n",
       "      <td>early</td>\n",
       "      <td>cool gadget</td>\n",
       "      <td>2</td>\n",
       "    </tr>\n",
       "    <tr>\n",
       "      <th>8</th>\n",
       "      <td>male</td>\n",
       "      <td>none</td>\n",
       "      <td>29</td>\n",
       "      <td>30</td>\n",
       "      <td>retail</td>\n",
       "      <td>276</td>\n",
       "      <td>1</td>\n",
       "      <td>early</td>\n",
       "      <td>schedule control</td>\n",
       "      <td>3</td>\n",
       "    </tr>\n",
       "    <tr>\n",
       "      <th>9</th>\n",
       "      <td>male</td>\n",
       "      <td>none</td>\n",
       "      <td>57</td>\n",
       "      <td>60</td>\n",
       "      <td>specialty stores</td>\n",
       "      <td>888</td>\n",
       "      <td>0</td>\n",
       "      <td>early</td>\n",
       "      <td>schedule control</td>\n",
       "      <td>3</td>\n",
       "    </tr>\n",
       "    <tr>\n",
       "      <th>10</th>\n",
       "      <td>female</td>\n",
       "      <td>none</td>\n",
       "      <td>30</td>\n",
       "      <td>59</td>\n",
       "      <td>discount</td>\n",
       "      <td>192</td>\n",
       "      <td>0</td>\n",
       "      <td>early</td>\n",
       "      <td>schedule control</td>\n",
       "      <td>3</td>\n",
       "    </tr>\n",
       "  </tbody>\n",
       "</table>\n",
       "</div>"
      ],
      "text/plain": [
       "    Gender Education  Income  Age              PurchasePoint  \\\n",
       "ID                                                             \n",
       "1     male      none      49   30  mass-consumer electronics   \n",
       "2     male      none      46   36  mass-consumer electronics   \n",
       "3     male        BA      58   66           specialty stores   \n",
       "4     male       PhD      51   78  mass-consumer electronics   \n",
       "5   female      none      46   52  mass-consumer electronics   \n",
       "6   female        BA      31   72                     retail   \n",
       "7     male      none      33   62                   discount   \n",
       "8     male      none      29   30                     retail   \n",
       "9     male      none      57   60           specialty stores   \n",
       "10  female      none      30   59                   discount   \n",
       "\n",
       "    ElecSpend_Annual  Tvhours TechAdopt  \\\n",
       "ID                                        \n",
       "1                420        2      late   \n",
       "2                420       10      late   \n",
       "3                768        0     early   \n",
       "4                396        5      late   \n",
       "5                540        2      late   \n",
       "6                168        1     early   \n",
       "7                216        0     early   \n",
       "8                276        1     early   \n",
       "9                888        0     early   \n",
       "10               192        0     early   \n",
       "\n",
       "                                   Fav_Feature  Fav_Coded  \n",
       "ID                                                         \n",
       "1   saving favorite shows to watch as a family          0  \n",
       "2   saving favorite shows to watch as a family          0  \n",
       "3                                time shifting          1  \n",
       "4   saving favorite shows to watch as a family          0  \n",
       "5   saving favorite shows to watch as a family          0  \n",
       "6                                time shifting          1  \n",
       "7                                  cool gadget          2  \n",
       "8                             schedule control          3  \n",
       "9                             schedule control          3  \n",
       "10                            schedule control          3  "
      ]
     },
     "execution_count": 19,
     "metadata": {},
     "output_type": "execute_result"
    }
   ],
   "source": [
    "dtivo.head(10)"
   ]
  },
  {
   "cell_type": "markdown",
   "id": "41f7e1c0",
   "metadata": {},
   "source": [
    "#### Education\n",
    "Sometimes the ordering of the numbers will matter, for example, in Education, we want to preserve our own order - especially when we see the results that summarize clusters.  So we \"Zip\" the categories with our own factors."
   ]
  },
  {
   "cell_type": "code",
   "execution_count": 7,
   "id": "77add21b",
   "metadata": {
    "scrolled": true
   },
   "outputs": [
    {
     "name": "stdout",
     "output_type": "stream",
     "text": [
      "['none' 'BA' 'PhD' 'MA']\n"
     ]
    }
   ],
   "source": [
    "ed_types = dtivo['Education'].unique()\n",
    "print(ed_types)"
   ]
  },
  {
   "cell_type": "code",
   "execution_count": null,
   "id": "e281e1fd",
   "metadata": {},
   "outputs": [],
   "source": [
    "dtivo['Education'].factorize(sort=True)"
   ]
  },
  {
   "cell_type": "code",
   "execution_count": 8,
   "id": "6beac181",
   "metadata": {
    "scrolled": true
   },
   "outputs": [
    {
     "name": "stdout",
     "output_type": "stream",
     "text": [
      "{'none': 1, 'BA': 2, 'PhD': 4, 'MA': 3}\n"
     ]
    }
   ],
   "source": [
    "ed_levels = [1,2,4,3]  #order numbers matched against ed_types list\n",
    "dict_edtypes = dict(zip(ed_types,ed_levels))\n",
    "print(dict_edtypes)"
   ]
  },
  {
   "cell_type": "code",
   "execution_count": null,
   "id": "4bdde3ae",
   "metadata": {
    "scrolled": false
   },
   "outputs": [],
   "source": [
    "dtivo['Ed_Coded'] = dtivo['Education'].map(dict_edtypes)\n",
    "dtivo.head(10)"
   ]
  },
  {
   "cell_type": "markdown",
   "id": "6399480a",
   "metadata": {},
   "source": [
    "#### PurchasePoint "
   ]
  },
  {
   "cell_type": "code",
   "execution_count": 21,
   "id": "718a786b",
   "metadata": {
    "scrolled": false
   },
   "outputs": [],
   "source": [
    "#EXERCISE-TODO-02: Decide whether you would like to \n",
    "#code 'PurchasePoint' using simply factorization (as we showed in Favorite Feature) \n",
    "# OR by mapping your own 'zipped' dictionary.\n",
    "#HINT: CONSIDER YOUR FINDINGS FROM TODO-01\n",
    "# WHICHEVER WAY YOU, CHOSE SAVE THE RESULT\n",
    "\n",
    "\n",
    "#?\n",
    "#?\n",
    "#?\n",
    "dtivo[\"PPoint_Coded\"] = dtivo['Education']._____________________________\n",
    "dtivo.head(10)\n"
   ]
  },
  {
   "cell_type": "markdown",
   "id": "93d56e6e",
   "metadata": {},
   "source": [
    "#### Factorizing a binary - what to label the result?"
   ]
  },
  {
   "cell_type": "code",
   "execution_count": 23,
   "id": "c5bec675",
   "metadata": {},
   "outputs": [
    {
     "data": {
      "text/plain": [
       "ID\n",
       "1      male\n",
       "2      male\n",
       "3      male\n",
       "4      male\n",
       "5    female\n",
       "Name: Gender, dtype: object"
      ]
     },
     "execution_count": 23,
     "metadata": {},
     "output_type": "execute_result"
    }
   ],
   "source": [
    "dtivo['Gender'].head()"
   ]
  },
  {
   "cell_type": "code",
   "execution_count": 34,
   "id": "38ba3fd9",
   "metadata": {},
   "outputs": [
    {
     "data": {
      "text/plain": [
       "(array([1, 1, 1, 1, 0, 0, 1, 1, 1, 0, 0, 0, 1, 0, 1, 0, 1, 0, 0, 0, 0, 1,\n",
       "        0, 1, 1, 1, 1, 1, 0, 0, 0, 0, 1, 0, 1, 0, 1, 0, 1, 1, 0, 0, 0, 0,\n",
       "        0, 1, 0, 1, 0, 1, 1, 1, 1, 1, 0, 0, 1, 0, 1, 1, 0, 1, 1, 0, 1, 1,\n",
       "        0, 1, 0, 1, 1, 0, 0, 1, 0, 0, 1, 1, 1, 0, 1, 1, 1, 0, 0, 0, 1, 1,\n",
       "        0, 0, 0, 1, 1, 0, 1, 1, 0, 1, 1, 1, 1, 0, 1, 0, 1, 1, 0, 1, 1, 0,\n",
       "        1, 1, 0, 1, 1, 0, 1, 0, 1, 0, 0, 1, 0, 0, 0, 1, 1, 1, 0, 1, 0, 0,\n",
       "        1, 1, 1, 0, 0, 1, 1, 1, 1, 0, 0, 1, 1, 1, 0, 1, 0, 0, 1, 1, 0, 0,\n",
       "        1, 0, 0, 0, 1, 0, 0, 0, 0, 1, 1, 0, 0, 1, 1, 1, 1, 1, 1, 1, 0, 1,\n",
       "        0, 1, 1, 1, 0, 0, 0, 0, 1, 0, 1, 1, 1, 0, 0, 0, 0, 0, 0, 1, 0, 1,\n",
       "        0, 0, 1, 1, 0, 1, 0, 0, 1, 1, 1, 1, 1, 0, 1, 1, 1, 0, 0, 0, 0, 1,\n",
       "        0, 1, 0, 0, 1, 0, 0, 0, 0, 1, 1, 1, 0, 0, 0, 1, 0, 0, 1, 0, 1, 0,\n",
       "        0, 1, 1, 0, 0, 0, 1, 0, 0, 1, 0, 0, 0, 1, 1, 0, 1, 1, 0, 1, 1, 0,\n",
       "        0, 1, 0, 0, 0, 1, 1, 0, 0, 0, 1, 0, 0, 0, 0, 1, 0, 0, 0, 1, 1, 1,\n",
       "        1, 0, 0, 1, 1, 1, 1, 0, 0, 1, 0, 1, 1, 0, 1, 0, 0, 0, 1, 0, 1, 0,\n",
       "        0, 0, 1, 0, 0, 0, 0, 1, 0, 0, 1, 0, 0, 1, 0, 0, 1, 1, 1, 1, 1, 0,\n",
       "        1, 0, 1, 1, 0, 1, 0, 1, 0, 0, 0, 1, 1, 0, 1, 1, 1, 1, 1, 0, 1, 1,\n",
       "        1, 0, 0, 1, 0, 1, 1, 1, 0, 1, 1, 0, 0, 1, 1, 0, 1, 1, 0, 0, 0, 1,\n",
       "        0, 0, 1, 1, 0, 1, 0, 1, 0, 1, 0, 1, 1, 1, 0, 1, 1, 0, 0, 1, 1, 1,\n",
       "        0, 0, 0, 1, 0, 0, 1, 0, 1, 1, 0, 1, 1, 0, 0, 1, 1, 1, 0, 0, 0, 0,\n",
       "        1, 1, 0, 1, 0, 1, 1, 0, 0, 1, 0, 0, 1, 1, 0, 0, 1, 0, 1, 1, 0, 0,\n",
       "        1, 1, 1, 0, 1, 0, 1, 0, 1, 0, 0, 1, 1, 0, 1, 1, 0, 0, 1, 1, 1, 1,\n",
       "        0, 1, 0, 0, 1, 1, 1, 1, 1, 1, 1, 0, 1, 1, 0, 1, 1, 0, 1, 0, 1, 0,\n",
       "        0, 1, 0, 1, 1, 0, 0, 0, 0, 0, 1, 1, 0, 0, 1, 1, 0, 1, 1, 0, 0, 0,\n",
       "        1, 1, 0, 1, 1, 1, 1, 1, 0, 1, 0, 1, 1, 1, 1, 0, 1, 0, 1, 0, 0, 0,\n",
       "        1, 1, 1, 0, 1, 1, 0, 1, 0, 1, 1, 0, 1, 0, 0, 1, 0, 1, 0, 1, 1, 0,\n",
       "        1, 0, 0, 1, 0, 0, 0, 0, 1, 0, 0, 1, 0, 0, 1, 1, 0, 0, 1, 0, 1, 0,\n",
       "        0, 1, 0, 0, 0, 1, 0, 1, 0, 1, 0, 1, 0, 0, 0, 0, 1, 0, 1, 0, 1, 1,\n",
       "        0, 1, 1, 0, 0, 0, 0, 1, 0, 1, 0, 0, 0, 0, 0, 1, 0, 1, 0, 1, 1, 1,\n",
       "        0, 1, 0, 0, 1, 0, 1, 1, 1, 1, 0, 1, 0, 1, 1, 0, 0, 0, 0, 0, 1, 1,\n",
       "        0, 0, 0, 1, 1, 1, 1, 1, 0, 1, 1, 1, 1, 1, 0, 1, 0, 1, 1, 0, 0, 1,\n",
       "        1, 1, 1, 0, 1, 1, 1, 1, 0, 0, 1, 1, 1, 1, 1, 0, 1, 1, 1, 1, 0, 0,\n",
       "        0, 1, 0, 1, 0, 0, 1, 0, 1, 1, 0, 1, 1, 0, 0, 1, 1, 1, 1, 1, 0, 0,\n",
       "        1, 1, 0, 0, 0, 0, 1, 1, 1, 0, 0, 0, 1, 0, 1, 0, 0, 0, 0, 1, 0, 1,\n",
       "        1, 1, 0, 0, 0, 1, 0, 1, 0, 1, 0, 0, 0, 0, 1, 0, 1, 1, 0, 1, 1, 1,\n",
       "        0, 1, 0, 1, 0, 0, 1, 0, 0, 0, 1, 1, 1, 1, 0, 0, 1, 1, 0, 1, 0, 0,\n",
       "        1, 0, 0, 0, 1, 1, 0, 1, 1, 1, 1, 1, 0, 1, 0, 1, 0, 0, 1, 1, 0, 1,\n",
       "        0, 1, 0, 0, 0, 1, 1, 1, 1, 1, 1, 1, 0, 1, 0, 1, 1, 0, 1, 1, 1, 1,\n",
       "        1, 0, 1, 1, 1, 1, 1, 1, 1, 1, 1, 0, 1, 1, 1, 0, 1, 1, 1, 0, 1, 0,\n",
       "        1, 1, 1, 0, 1, 0, 0, 1, 0, 1, 1, 1, 1, 0, 1, 1, 1, 1, 1, 0, 1, 0,\n",
       "        1, 1, 1, 0, 0, 0, 0, 1, 1, 1, 1, 0, 0, 0, 1, 1, 1, 0, 0, 0, 0, 0,\n",
       "        1, 1, 1, 1, 1, 0, 1, 1, 1, 0, 0, 0, 1, 1, 1, 1, 0, 0, 0, 1, 1, 0,\n",
       "        0, 1, 1, 1, 1, 0, 1, 0, 1, 0, 1, 0, 0, 0, 0, 0, 1, 0, 1, 1, 1, 1,\n",
       "        1, 0, 0, 1, 0, 1, 0, 0, 1, 0, 1, 1, 0, 1, 0, 1, 0, 0, 1, 1, 0, 0,\n",
       "        1, 1, 1, 1, 1, 1, 0, 0, 0, 1, 1, 1, 1, 1, 1, 1, 1, 1, 1, 0, 0, 0,\n",
       "        0, 1, 0, 1, 1, 1, 0, 0, 0, 1, 0, 1, 0, 0, 0, 1, 1, 0, 1, 1, 1, 1,\n",
       "        1, 0, 0, 1, 1, 0, 1, 1, 1, 0]),\n",
       " Index(['female', 'male'], dtype='object'))"
      ]
     },
     "execution_count": 34,
     "metadata": {},
     "output_type": "execute_result"
    }
   ],
   "source": [
    "dtivo['Gender'].factorize(sort=True)"
   ]
  },
  {
   "cell_type": "markdown",
   "id": "e21115d9",
   "metadata": {},
   "source": [
    "When factorizing a binary variable, you need to anticipate which category gets zero and which gets one.  Factorize offers to first sort the 'unique' categories.  For example, our dataset only has two genders (male and female) so this is a binary variable.  If we apply sort, we can anticipate that as 'F' comes before 'M', females will get `0` and males will get assigned `1`.  In this case the Series we get is Male as males have `1`.\n",
    "\n",
    " Without this, what ever the first category appearing in the first row is will get 0 and the next category will get 1 (so given the above data, male would get `0` without sort)"
   ]
  },
  {
   "cell_type": "code",
   "execution_count": 35,
   "id": "fbb78a2f",
   "metadata": {},
   "outputs": [
    {
     "name": "stdout",
     "output_type": "stream",
     "text": [
      "Index(['female', 'male'], dtype='object')\n"
     ]
    },
    {
     "data": {
      "text/html": [
       "<div>\n",
       "<style scoped>\n",
       "    .dataframe tbody tr th:only-of-type {\n",
       "        vertical-align: middle;\n",
       "    }\n",
       "\n",
       "    .dataframe tbody tr th {\n",
       "        vertical-align: top;\n",
       "    }\n",
       "\n",
       "    .dataframe thead th {\n",
       "        text-align: right;\n",
       "    }\n",
       "</style>\n",
       "<table border=\"1\" class=\"dataframe\">\n",
       "  <thead>\n",
       "    <tr style=\"text-align: right;\">\n",
       "      <th></th>\n",
       "      <th>Gender</th>\n",
       "      <th>Education</th>\n",
       "      <th>Income</th>\n",
       "      <th>Age</th>\n",
       "      <th>PurchasePoint</th>\n",
       "      <th>ElecSpend_Annual</th>\n",
       "      <th>Tvhours</th>\n",
       "      <th>TechAdopt</th>\n",
       "      <th>Fav_Feature</th>\n",
       "      <th>Fav_Coded</th>\n",
       "      <th>Female</th>\n",
       "      <th>Male</th>\n",
       "    </tr>\n",
       "    <tr>\n",
       "      <th>ID</th>\n",
       "      <th></th>\n",
       "      <th></th>\n",
       "      <th></th>\n",
       "      <th></th>\n",
       "      <th></th>\n",
       "      <th></th>\n",
       "      <th></th>\n",
       "      <th></th>\n",
       "      <th></th>\n",
       "      <th></th>\n",
       "      <th></th>\n",
       "      <th></th>\n",
       "    </tr>\n",
       "  </thead>\n",
       "  <tbody>\n",
       "    <tr>\n",
       "      <th>1</th>\n",
       "      <td>male</td>\n",
       "      <td>none</td>\n",
       "      <td>49</td>\n",
       "      <td>30</td>\n",
       "      <td>mass-consumer electronics</td>\n",
       "      <td>420</td>\n",
       "      <td>2</td>\n",
       "      <td>late</td>\n",
       "      <td>saving favorite shows to watch as a family</td>\n",
       "      <td>0</td>\n",
       "      <td>0</td>\n",
       "      <td>1</td>\n",
       "    </tr>\n",
       "    <tr>\n",
       "      <th>2</th>\n",
       "      <td>male</td>\n",
       "      <td>none</td>\n",
       "      <td>46</td>\n",
       "      <td>36</td>\n",
       "      <td>mass-consumer electronics</td>\n",
       "      <td>420</td>\n",
       "      <td>10</td>\n",
       "      <td>late</td>\n",
       "      <td>saving favorite shows to watch as a family</td>\n",
       "      <td>0</td>\n",
       "      <td>0</td>\n",
       "      <td>1</td>\n",
       "    </tr>\n",
       "    <tr>\n",
       "      <th>3</th>\n",
       "      <td>male</td>\n",
       "      <td>BA</td>\n",
       "      <td>58</td>\n",
       "      <td>66</td>\n",
       "      <td>specialty stores</td>\n",
       "      <td>768</td>\n",
       "      <td>0</td>\n",
       "      <td>early</td>\n",
       "      <td>time shifting</td>\n",
       "      <td>1</td>\n",
       "      <td>0</td>\n",
       "      <td>1</td>\n",
       "    </tr>\n",
       "    <tr>\n",
       "      <th>4</th>\n",
       "      <td>male</td>\n",
       "      <td>PhD</td>\n",
       "      <td>51</td>\n",
       "      <td>78</td>\n",
       "      <td>mass-consumer electronics</td>\n",
       "      <td>396</td>\n",
       "      <td>5</td>\n",
       "      <td>late</td>\n",
       "      <td>saving favorite shows to watch as a family</td>\n",
       "      <td>0</td>\n",
       "      <td>0</td>\n",
       "      <td>1</td>\n",
       "    </tr>\n",
       "    <tr>\n",
       "      <th>5</th>\n",
       "      <td>female</td>\n",
       "      <td>none</td>\n",
       "      <td>46</td>\n",
       "      <td>52</td>\n",
       "      <td>mass-consumer electronics</td>\n",
       "      <td>540</td>\n",
       "      <td>2</td>\n",
       "      <td>late</td>\n",
       "      <td>saving favorite shows to watch as a family</td>\n",
       "      <td>0</td>\n",
       "      <td>1</td>\n",
       "      <td>0</td>\n",
       "    </tr>\n",
       "  </tbody>\n",
       "</table>\n",
       "</div>"
      ],
      "text/plain": [
       "    Gender Education  Income  Age              PurchasePoint  \\\n",
       "ID                                                             \n",
       "1     male      none      49   30  mass-consumer electronics   \n",
       "2     male      none      46   36  mass-consumer electronics   \n",
       "3     male        BA      58   66           specialty stores   \n",
       "4     male       PhD      51   78  mass-consumer electronics   \n",
       "5   female      none      46   52  mass-consumer electronics   \n",
       "\n",
       "    ElecSpend_Annual  Tvhours TechAdopt  \\\n",
       "ID                                        \n",
       "1                420        2      late   \n",
       "2                420       10      late   \n",
       "3                768        0     early   \n",
       "4                396        5      late   \n",
       "5                540        2      late   \n",
       "\n",
       "                                   Fav_Feature  Fav_Coded  Female  Male  \n",
       "ID                                                                       \n",
       "1   saving favorite shows to watch as a family          0       0     1  \n",
       "2   saving favorite shows to watch as a family          0       0     1  \n",
       "3                                time shifting          1       0     1  \n",
       "4   saving favorite shows to watch as a family          0       0     1  \n",
       "5   saving favorite shows to watch as a family          0       1     0  "
      ]
     },
     "execution_count": 35,
     "metadata": {},
     "output_type": "execute_result"
    }
   ],
   "source": [
    "dtivo['Male'], gender_uniques = dtivo['Gender'].factorize(sort=True)\n",
    "print(gender_uniques)\n",
    "dtivo.head()"
   ]
  },
  {
   "cell_type": "markdown",
   "id": "bb9f6638",
   "metadata": {},
   "source": [
    "### Rows to keep for clustering\n",
    "We are only interested at launch in segments *within* early adopters => filter out late adopters.\n"
   ]
  },
  {
   "cell_type": "code",
   "execution_count": 38,
   "id": "192ce373",
   "metadata": {
    "scrolled": true
   },
   "outputs": [
    {
     "data": {
      "text/plain": [
       "800"
      ]
     },
     "execution_count": 38,
     "metadata": {},
     "output_type": "execute_result"
    }
   ],
   "source": [
    "#Assuming we have done some segment targeting already - like focus on Early adopters only.\n",
    "dtivo_early = dtivo[dtivo['TechAdopt']=='early'].copy()\n",
    "len(dtivo_early)"
   ]
  },
  {
   "cell_type": "code",
   "execution_count": 39,
   "id": "46594f96",
   "metadata": {},
   "outputs": [],
   "source": [
    "outlierIDs = []   #WE CAN DROP ANY CASES THAT WE THINK ARE OUTLIERS AND WILL DISTORT OUR SEGMENTS\n",
    "#EXERCISE-TODO-Nth: RETURN TO THIS AFTER RUNNING THE CLUSTER ANALYSIS\n",
    "dtivo_early.drop(index=outlierIDs, inplace=True)"
   ]
  },
  {
   "cell_type": "code",
   "execution_count": 40,
   "id": "f7e0eccc",
   "metadata": {},
   "outputs": [
    {
     "data": {
      "text/plain": [
       "800"
      ]
     },
     "execution_count": 40,
     "metadata": {},
     "output_type": "execute_result"
    }
   ],
   "source": [
    "len(dtivo_early)"
   ]
  },
  {
   "cell_type": "markdown",
   "id": "68b9955d",
   "metadata": {},
   "source": [
    "### Columns to keep for clustering"
   ]
  },
  {
   "cell_type": "code",
   "execution_count": 41,
   "id": "7ac02270",
   "metadata": {
    "scrolled": true
   },
   "outputs": [
    {
     "data": {
      "text/plain": [
       "['Gender',\n",
       " 'Education',\n",
       " 'Income',\n",
       " 'Age',\n",
       " 'PurchasePoint',\n",
       " 'ElecSpend_Annual',\n",
       " 'Tvhours',\n",
       " 'TechAdopt',\n",
       " 'Fav_Feature',\n",
       " 'Fav_Coded',\n",
       " 'Female',\n",
       " 'Male']"
      ]
     },
     "execution_count": 41,
     "metadata": {},
     "output_type": "execute_result"
    }
   ],
   "source": [
    "colsAll = list(dtivo_early.columns)\n",
    "colsAll"
   ]
  },
  {
   "cell_type": "markdown",
   "id": "8dee45b9",
   "metadata": {},
   "source": [
    "The word 'descriptors' signifies that these are the chosen variables that we believe will truly help us predict our segmentation.  Descriptors chosen should be those that we will know about the customer before the marketing action takes place.  For example, before selling our product, will we know their purchase point?"
   ]
  },
  {
   "cell_type": "code",
   "execution_count": 44,
   "id": "3fb0ee28",
   "metadata": {},
   "outputs": [
    {
     "name": "stdout",
     "output_type": "stream",
     "text": [
      "['Income', 'Age', 'ElecSpend_Annual', 'Male']\n"
     ]
    },
    {
     "data": {
      "text/html": [
       "<div>\n",
       "<style scoped>\n",
       "    .dataframe tbody tr th:only-of-type {\n",
       "        vertical-align: middle;\n",
       "    }\n",
       "\n",
       "    .dataframe tbody tr th {\n",
       "        vertical-align: top;\n",
       "    }\n",
       "\n",
       "    .dataframe thead th {\n",
       "        text-align: right;\n",
       "    }\n",
       "</style>\n",
       "<table border=\"1\" class=\"dataframe\">\n",
       "  <thead>\n",
       "    <tr style=\"text-align: right;\">\n",
       "      <th></th>\n",
       "      <th>Income</th>\n",
       "      <th>Age</th>\n",
       "      <th>ElecSpend_Annual</th>\n",
       "      <th>Male</th>\n",
       "    </tr>\n",
       "    <tr>\n",
       "      <th>ID</th>\n",
       "      <th></th>\n",
       "      <th></th>\n",
       "      <th></th>\n",
       "      <th></th>\n",
       "    </tr>\n",
       "  </thead>\n",
       "  <tbody>\n",
       "    <tr>\n",
       "      <th>3</th>\n",
       "      <td>58</td>\n",
       "      <td>66</td>\n",
       "      <td>768</td>\n",
       "      <td>1</td>\n",
       "    </tr>\n",
       "    <tr>\n",
       "      <th>6</th>\n",
       "      <td>31</td>\n",
       "      <td>72</td>\n",
       "      <td>168</td>\n",
       "      <td>0</td>\n",
       "    </tr>\n",
       "    <tr>\n",
       "      <th>7</th>\n",
       "      <td>33</td>\n",
       "      <td>62</td>\n",
       "      <td>216</td>\n",
       "      <td>1</td>\n",
       "    </tr>\n",
       "    <tr>\n",
       "      <th>8</th>\n",
       "      <td>29</td>\n",
       "      <td>30</td>\n",
       "      <td>276</td>\n",
       "      <td>1</td>\n",
       "    </tr>\n",
       "    <tr>\n",
       "      <th>9</th>\n",
       "      <td>57</td>\n",
       "      <td>60</td>\n",
       "      <td>888</td>\n",
       "      <td>1</td>\n",
       "    </tr>\n",
       "  </tbody>\n",
       "</table>\n",
       "</div>"
      ],
      "text/plain": [
       "    Income  Age  ElecSpend_Annual  Male\n",
       "ID                                     \n",
       "3       58   66               768     1\n",
       "6       31   72               168     0\n",
       "7       33   62               216     1\n",
       "8       29   30               276     1\n",
       "9       57   60               888     1"
      ]
     },
     "execution_count": 44,
     "metadata": {},
     "output_type": "execute_result"
    }
   ],
   "source": [
    "\n",
    "colsToDrop = ['Education',      #factorized, only keeping its coded form\n",
    "              'PurchasePoint',  #factorized, only keeping its coded form\n",
    "              'Tvhours',        #Dropping to keep it simple\n",
    "              'TechAdopt',      #Don't need after filtering out TechAdopter==late.\n",
    "              'Fav_Feature',    #factorized, only keeping coded form\n",
    "              'Gender',         #already have 'Male' after factorization\n",
    "              'Fav_Coded',      #Dropping to keep it simple\n",
    "#              'PPoint_Coded',   #Dropping to keep it simple in first run - uncomment after TODOS\n",
    "                                #EXERCISE-TODO-TAKEHOME - try doing this again but with some of the variables we dropped for simplicity\n",
    "             ]\n",
    "\n",
    "dtivo_descriptors = dtivo_early.drop(columns=colsToDrop)\n",
    "colsKept = list(dtivo_descriptors.columns)\n",
    "print(colsKept)\n",
    "dtivo_descriptors.head()"
   ]
  },
  {
   "cell_type": "markdown",
   "id": "3841daa6",
   "metadata": {},
   "source": [
    "### Normalize using Standardization"
   ]
  },
  {
   "cell_type": "markdown",
   "id": "013656d1",
   "metadata": {},
   "source": [
    "If Clustering has to give equal weight to each field (or 'feature' in ML terms), then<br>\n",
    "we must make sure they are on the same scale (i.e. **Normalize** the fields).\n",
    "\n",
    "If we are interested in how our segments vary from the average (e.g. <br>\n",
    "above average income, highly below average age, etc.), then we use<br>\n",
    "**Standardization** for normalization.\n"
   ]
  },
  {
   "cell_type": "code",
   "execution_count": 45,
   "id": "03917ebc",
   "metadata": {
    "scrolled": true
   },
   "outputs": [],
   "source": [
    "#IMPORT PACKAGE FOR STANDARDIZATION\n",
    "from sklearn import preprocessing"
   ]
  },
  {
   "cell_type": "code",
   "execution_count": 46,
   "id": "d471e44f",
   "metadata": {
    "scrolled": true
   },
   "outputs": [
    {
     "data": {
      "text/html": [
       "<div>\n",
       "<style scoped>\n",
       "    .dataframe tbody tr th:only-of-type {\n",
       "        vertical-align: middle;\n",
       "    }\n",
       "\n",
       "    .dataframe tbody tr th {\n",
       "        vertical-align: top;\n",
       "    }\n",
       "\n",
       "    .dataframe thead th {\n",
       "        text-align: right;\n",
       "    }\n",
       "</style>\n",
       "<table border=\"1\" class=\"dataframe\">\n",
       "  <thead>\n",
       "    <tr style=\"text-align: right;\">\n",
       "      <th></th>\n",
       "      <th>Income</th>\n",
       "      <th>Age</th>\n",
       "      <th>ElecSpend_Annual</th>\n",
       "      <th>Male</th>\n",
       "    </tr>\n",
       "  </thead>\n",
       "  <tbody>\n",
       "    <tr>\n",
       "      <th>count</th>\n",
       "      <td>800.00</td>\n",
       "      <td>800.00</td>\n",
       "      <td>800.00</td>\n",
       "      <td>800.00</td>\n",
       "    </tr>\n",
       "    <tr>\n",
       "      <th>mean</th>\n",
       "      <td>0.00</td>\n",
       "      <td>-0.00</td>\n",
       "      <td>0.00</td>\n",
       "      <td>-0.00</td>\n",
       "    </tr>\n",
       "    <tr>\n",
       "      <th>std</th>\n",
       "      <td>1.00</td>\n",
       "      <td>1.00</td>\n",
       "      <td>1.00</td>\n",
       "      <td>1.00</td>\n",
       "    </tr>\n",
       "    <tr>\n",
       "      <th>min</th>\n",
       "      <td>-0.46</td>\n",
       "      <td>-1.59</td>\n",
       "      <td>-1.19</td>\n",
       "      <td>-1.11</td>\n",
       "    </tr>\n",
       "    <tr>\n",
       "      <th>25%</th>\n",
       "      <td>-0.26</td>\n",
       "      <td>-0.94</td>\n",
       "      <td>-0.69</td>\n",
       "      <td>-1.11</td>\n",
       "    </tr>\n",
       "    <tr>\n",
       "      <th>50%</th>\n",
       "      <td>-0.17</td>\n",
       "      <td>-0.00</td>\n",
       "      <td>-0.52</td>\n",
       "      <td>0.90</td>\n",
       "    </tr>\n",
       "    <tr>\n",
       "      <th>75%</th>\n",
       "      <td>-0.05</td>\n",
       "      <td>0.87</td>\n",
       "      <td>0.37</td>\n",
       "      <td>0.90</td>\n",
       "    </tr>\n",
       "    <tr>\n",
       "      <th>max</th>\n",
       "      <td>20.26</td>\n",
       "      <td>1.81</td>\n",
       "      <td>3.33</td>\n",
       "      <td>0.90</td>\n",
       "    </tr>\n",
       "  </tbody>\n",
       "</table>\n",
       "</div>"
      ],
      "text/plain": [
       "       Income     Age  ElecSpend_Annual    Male\n",
       "count  800.00  800.00            800.00  800.00\n",
       "mean     0.00   -0.00              0.00   -0.00\n",
       "std      1.00    1.00              1.00    1.00\n",
       "min     -0.46   -1.59             -1.19   -1.11\n",
       "25%     -0.26   -0.94             -0.69   -1.11\n",
       "50%     -0.17   -0.00             -0.52    0.90\n",
       "75%     -0.05    0.87              0.37    0.90\n",
       "max     20.26    1.81              3.33    0.90"
      ]
     },
     "execution_count": 46,
     "metadata": {},
     "output_type": "execute_result"
    }
   ],
   "source": [
    "#STANDARDIZED SCALING\n",
    "dtivo_std = pd.DataFrame(preprocessing.scale(dtivo_descriptors),\n",
    "                         columns=colsKept,                 #TODO: REVIEW in light of any changes to COLUMNS DROPPED\n",
    "                         index=dtivo_descriptors.index\n",
    "                        )\n",
    "\n",
    "#only for checking if done\n",
    "dtivo_std.describe().round(2)"
   ]
  },
  {
   "cell_type": "code",
   "execution_count": 47,
   "id": "e4dfa821",
   "metadata": {},
   "outputs": [
    {
     "data": {
      "text/html": [
       "<div>\n",
       "<style scoped>\n",
       "    .dataframe tbody tr th:only-of-type {\n",
       "        vertical-align: middle;\n",
       "    }\n",
       "\n",
       "    .dataframe tbody tr th {\n",
       "        vertical-align: top;\n",
       "    }\n",
       "\n",
       "    .dataframe thead th {\n",
       "        text-align: right;\n",
       "    }\n",
       "</style>\n",
       "<table border=\"1\" class=\"dataframe\">\n",
       "  <thead>\n",
       "    <tr style=\"text-align: right;\">\n",
       "      <th></th>\n",
       "      <th>Income</th>\n",
       "      <th>Age</th>\n",
       "      <th>ElecSpend_Annual</th>\n",
       "      <th>Male</th>\n",
       "    </tr>\n",
       "    <tr>\n",
       "      <th>ID</th>\n",
       "      <th></th>\n",
       "      <th></th>\n",
       "      <th></th>\n",
       "      <th></th>\n",
       "    </tr>\n",
       "  </thead>\n",
       "  <tbody>\n",
       "    <tr>\n",
       "      <th>3</th>\n",
       "      <td>0.621504</td>\n",
       "      <td>1.038894</td>\n",
       "      <td>1.989377</td>\n",
       "      <td>0.902252</td>\n",
       "    </tr>\n",
       "    <tr>\n",
       "      <th>6</th>\n",
       "      <td>-0.167615</td>\n",
       "      <td>1.367897</td>\n",
       "      <td>-0.800871</td>\n",
       "      <td>-1.108338</td>\n",
       "    </tr>\n",
       "    <tr>\n",
       "      <th>7</th>\n",
       "      <td>-0.109161</td>\n",
       "      <td>0.819559</td>\n",
       "      <td>-0.577651</td>\n",
       "      <td>0.902252</td>\n",
       "    </tr>\n",
       "    <tr>\n",
       "      <th>8</th>\n",
       "      <td>-0.226068</td>\n",
       "      <td>-0.935121</td>\n",
       "      <td>-0.298626</td>\n",
       "      <td>0.902252</td>\n",
       "    </tr>\n",
       "    <tr>\n",
       "      <th>9</th>\n",
       "      <td>0.592277</td>\n",
       "      <td>0.709892</td>\n",
       "      <td>2.547427</td>\n",
       "      <td>0.902252</td>\n",
       "    </tr>\n",
       "  </tbody>\n",
       "</table>\n",
       "</div>"
      ],
      "text/plain": [
       "      Income       Age  ElecSpend_Annual      Male\n",
       "ID                                                \n",
       "3   0.621504  1.038894          1.989377  0.902252\n",
       "6  -0.167615  1.367897         -0.800871 -1.108338\n",
       "7  -0.109161  0.819559         -0.577651  0.902252\n",
       "8  -0.226068 -0.935121         -0.298626  0.902252\n",
       "9   0.592277  0.709892          2.547427  0.902252"
      ]
     },
     "execution_count": 47,
     "metadata": {},
     "output_type": "execute_result"
    }
   ],
   "source": [
    "dtivo_std.head()"
   ]
  },
  {
   "cell_type": "markdown",
   "id": "660be91a",
   "metadata": {},
   "source": [
    "## L: Loading the transformed data (LOAD part of ETL pipeline)"
   ]
  },
  {
   "cell_type": "code",
   "execution_count": 50,
   "id": "117c2703",
   "metadata": {},
   "outputs": [],
   "source": [
    "dtivo_descriptors.to_csv(\"data/dtivo_descriptors.csv\")"
   ]
  },
  {
   "cell_type": "code",
   "execution_count": 51,
   "id": "3e722fa6",
   "metadata": {},
   "outputs": [],
   "source": [
    "dtivo_std.to_csv(\"data/dtivo_standardized.csv\")"
   ]
  }
 ],
 "metadata": {
  "kernelspec": {
   "display_name": "Python 3",
   "language": "python",
   "name": "python3"
  },
  "language_info": {
   "codemirror_mode": {
    "name": "ipython",
    "version": 3
   },
   "file_extension": ".py",
   "mimetype": "text/x-python",
   "name": "python",
   "nbconvert_exporter": "python",
   "pygments_lexer": "ipython3",
   "version": "3.12.1"
  },
  "toc": {
   "base_numbering": 1,
   "nav_menu": {},
   "number_sections": true,
   "sideBar": true,
   "skip_h1_title": true,
   "title_cell": "Table of Contents",
   "title_sidebar": "Contents",
   "toc_cell": false,
   "toc_position": {
    "height": "calc(100% - 180px)",
    "left": "10px",
    "top": "150px",
    "width": "372px"
   },
   "toc_section_display": true,
   "toc_window_display": false
  },
  "varInspector": {
   "cols": {
    "lenName": 16,
    "lenType": 16,
    "lenVar": 40
   },
   "kernels_config": {
    "python": {
     "delete_cmd_postfix": "",
     "delete_cmd_prefix": "del ",
     "library": "var_list.py",
     "varRefreshCmd": "print(var_dic_list())"
    },
    "r": {
     "delete_cmd_postfix": ") ",
     "delete_cmd_prefix": "rm(",
     "library": "var_list.r",
     "varRefreshCmd": "cat(var_dic_list()) "
    }
   },
   "types_to_exclude": [
    "module",
    "function",
    "builtin_function_or_method",
    "instance",
    "_Feature"
   ],
   "window_display": false
  }
 },
 "nbformat": 4,
 "nbformat_minor": 5
}
