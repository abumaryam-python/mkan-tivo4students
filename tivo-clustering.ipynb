{
 "cells": [
  {
   "cell_type": "markdown",
   "id": "b8964a0c",
   "metadata": {},
   "source": [
    "# TiVo - Segmentation Analysis using _k_-means Clustering\n",
    "\n",
    "**NOTE**: All cells that have Excercises in them are marked with `#EXERCISE-TODO`"
   ]
  },
  {
   "cell_type": "code",
   "execution_count": null,
   "id": "e34c0e96",
   "metadata": {},
   "outputs": [],
   "source": [
    "##NOTE: ONLY RUN THIS AGAIN BY UNCOMMENTING IF YOU HAVEN'T RUN THIS IN ETL FILE ALREADY\n",
    "#%pip install -r requirements.txt"
   ]
  },
  {
   "cell_type": "code",
   "execution_count": 29,
   "id": "f6eebaf9",
   "metadata": {},
   "outputs": [],
   "source": [
    "import pandas as pd\n",
    "import numpy as np\n",
    "import matplotlib.pyplot as plt"
   ]
  },
  {
   "cell_type": "markdown",
   "id": "f7154ce9",
   "metadata": {},
   "source": [
    "## Read in ETL pipeline data"
   ]
  },
  {
   "cell_type": "markdown",
   "id": "4625c50b",
   "metadata": {},
   "source": [
    "Read in two files:\n",
    "1. the standardized data from which we will find clusters\n",
    "1. the original data of our selected descriptors, to use in post-clustering analysis"
   ]
  },
  {
   "cell_type": "code",
   "execution_count": null,
   "id": "3e722fa6",
   "metadata": {},
   "outputs": [],
   "source": [
    "dtivo_std = pd.read_csv(\"data/dtivo_standardized.csv\",\n",
    "                        index_col=\"ID\")\n",
    "dtivo_std.head()"
   ]
  },
  {
   "cell_type": "code",
   "execution_count": null,
   "id": "117c2703",
   "metadata": {},
   "outputs": [],
   "source": [
    "dtivo_desc = pd.read_csv(\"data/dtivo_descriptors.csv\",\n",
    "                         index_col=\"ID\")\n",
    "dtivo_desc.head()"
   ]
  },
  {
   "cell_type": "code",
   "execution_count": null,
   "id": "7124d520",
   "metadata": {},
   "outputs": [],
   "source": []
  },
  {
   "cell_type": "code",
   "execution_count": null,
   "id": "55a72e10",
   "metadata": {},
   "outputs": [],
   "source": []
  },
  {
   "cell_type": "markdown",
   "id": "5dae3a3e",
   "metadata": {},
   "source": [
    "## K-means Clustering"
   ]
  },
  {
   "cell_type": "markdown",
   "id": "8e4a4b97",
   "metadata": {},
   "source": [
    "### Basic approach - assuming we want K=4"
   ]
  },
  {
   "cell_type": "code",
   "execution_count": 40,
   "id": "59207e35",
   "metadata": {
    "scrolled": true
   },
   "outputs": [],
   "source": [
    "#Import Required Packages\n",
    "from sklearn.cluster import KMeans"
   ]
  },
  {
   "cell_type": "markdown",
   "id": "8d915f34",
   "metadata": {},
   "source": [
    "#### Fitting the k-means model for k=4"
   ]
  },
  {
   "cell_type": "code",
   "execution_count": 41,
   "id": "93c92f1f",
   "metadata": {
    "scrolled": true
   },
   "outputs": [],
   "source": [
    "#Fit 4 clusters using KMeans to standardized data\n",
    "k4_model = KMeans(n_clusters=4, \n",
    "                  random_state=111).fit(dtivo_std)"
   ]
  },
  {
   "cell_type": "markdown",
   "id": "d0e320cd",
   "metadata": {},
   "source": [
    "#### Tagging the segmentation bases dataset with cluster numbers"
   ]
  },
  {
   "cell_type": "code",
   "execution_count": null,
   "id": "07a6b9cc",
   "metadata": {},
   "outputs": [],
   "source": [
    "# Tag original data with the clusters for analysis reporting\n",
    "dtivo_k4 = dtivo_desc.copy()\n",
    "dtivo_k4['k4'] = k4_model.labels_\n",
    "dtivo_k4.head()"
   ]
  },
  {
   "cell_type": "code",
   "execution_count": 43,
   "id": "1175fb3f",
   "metadata": {},
   "outputs": [],
   "source": [
    "dtivo_k4.to_csv(\"outputs/dtivo_k4.csv\")"
   ]
  },
  {
   "cell_type": "markdown",
   "id": "703cf679",
   "metadata": {},
   "source": [
    "#### Basic summary table"
   ]
  },
  {
   "cell_type": "code",
   "execution_count": null,
   "id": "eab364e1",
   "metadata": {},
   "outputs": [],
   "source": [
    "#TODO-18: Select appropriate metrics to summarize the cluster features.\n",
    "pivot_k4 = dtivo_k4.groupby('k4').agg(['mean', 'std']).round(1)\n",
    "pivot_k4.insert(0, 'Size', dtivo_k4.groupby('k4').size())\n",
    "pivot_k4"
   ]
  },
  {
   "cell_type": "markdown",
   "id": "6f903d05",
   "metadata": {},
   "source": [
    "#### Calculating the Value of a Cluster\n",
    "Both size and spending per annum of each person in that cluster matters in this scenario.  So we can value the segments by using these."
   ]
  },
  {
   "cell_type": "code",
   "execution_count": null,
   "id": "5cab97c8",
   "metadata": {},
   "outputs": [],
   "source": [
    "pivot_k4['Value ($)'] = pivot_k4['ElecSpend_Annual']['mean']*pivot_k4['Size']\n",
    "pivot_k4"
   ]
  },
  {
   "cell_type": "markdown",
   "id": "df223c51",
   "metadata": {},
   "source": [
    "#### PROBLEM WITH OUR CLUSTERS?\n",
    "There is one cluster which is too small to represent our future market.  It contains outliers.\n",
    " \n"
   ]
  },
  {
   "cell_type": "markdown",
   "id": "98fad9d8",
   "metadata": {},
   "source": [
    " #### SOLUTION\n",
    " 1. Identify the outliers\n",
    " 1. Drop them from pipeline stage above. Use the dropping code **_there_** to drop the 2 records that are outliers (As k-means has some randomness in it, your cluster number may be different for the 2 records - please adjust code for that)\n"
   ]
  },
  {
   "cell_type": "code",
   "execution_count": null,
   "id": "70153270",
   "metadata": {},
   "outputs": [],
   "source": [
    "outlierIDs = dtivo_k4[dtivo_k4['k4']==3].index\n",
    "print(outlierIDs)"
   ]
  },
  {
   "cell_type": "code",
   "execution_count": null,
   "id": "1b70dce1",
   "metadata": {},
   "outputs": [],
   "source": [
    "#DO NOT USE THIS CODE HERE - MOVE IT BACK TO THE TOP AFTER LOADING THESE FILES\n",
    "#ALSO NOTE: IT WILL ONLY WORK IF YOU HAVE ALREADY DEFINED outlierIDs before running it.\n",
    "#dtivo_std.drop(index=outlierIDs, inplace=True)\n",
    "#len(dtivo_std)\n",
    "#dtivo_desc.drop(index=outlierIDs, inplace=True)\n",
    "#len(dtivo_desc)"
   ]
  },
  {
   "cell_type": "markdown",
   "id": "d28af01b",
   "metadata": {},
   "source": [
    "#### Using a Heatmap on the Summary Table to understand the Clusters (k=4)"
   ]
  },
  {
   "cell_type": "code",
   "execution_count": 46,
   "id": "983c2de0",
   "metadata": {},
   "outputs": [],
   "source": [
    "import seaborn as sns\n",
    "import matplotlib.pyplot as plt\n",
    "%matplotlib inline"
   ]
  },
  {
   "cell_type": "code",
   "execution_count": null,
   "id": "3e96b409",
   "metadata": {},
   "outputs": [],
   "source": [
    "pk4mins = pivot_k4.min(0)\n",
    "pk4maxs = pivot_k4.max(0)\n",
    "mm_pivot = (pivot_k4 - pk4mins)/(pk4maxs-pk4mins)\n",
    "fig = plt.figure(figsize=(14, 4))\n",
    "pk4_map = sns.heatmap(\n",
    "    mm_pivot,\n",
    "    annot=pivot_k4,  #actual pivot becomes annotation\n",
    "    cmap='coolwarm_r',\n",
    "    cbar=False,\n",
    "    fmt=',.1f',\n",
    "    lw=0.01)\n",
    "\n",
    "pk4_map.set(xlabel='Descriptors',\n",
    "           ylabel = 'Cluster')\n",
    "plt.show()"
   ]
  },
  {
   "cell_type": "code",
   "execution_count": 91,
   "id": "b702a378",
   "metadata": {},
   "outputs": [],
   "source": [
    "fig.savefig('figs/heatmap_k4_tivo.png', dpi=300, bbox_inches='tight')"
   ]
  },
  {
   "cell_type": "markdown",
   "id": "e105ee18",
   "metadata": {},
   "source": [
    "#### Defining clusters with 'persona' descriptions\n",
    "Edit the descriptors according to what you think is a defining feature.  It should inform your marketing team"
   ]
  },
  {
   "cell_type": "code",
   "execution_count": null,
   "id": "967cd2e9",
   "metadata": {},
   "outputs": [],
   "source": [
    "pivot_k4_annot = pivot_k4.copy()\n",
    "pivot_k4_annot['Persona'] = ['Young Moderate Spenders',\n",
    "                             'Educated High-Spending Men',\n",
    "                             '????',\n",
    "                             '????'\n",
    "                            ]\n",
    "pivot_k4_annot"
   ]
  },
  {
   "cell_type": "code",
   "execution_count": 51,
   "id": "9c6b6e1c",
   "metadata": {},
   "outputs": [],
   "source": [
    "pivot_k4_annot.to_excel('outputs/pivot_k4_tivo.xlsx')"
   ]
  },
  {
   "cell_type": "markdown",
   "id": "547d3374",
   "metadata": {},
   "source": [
    "#### Box plots: visualize heterogeneity and homogeneity by feature"
   ]
  },
  {
   "cell_type": "code",
   "execution_count": null,
   "id": "46fb53e5",
   "metadata": {},
   "outputs": [],
   "source": [
    "#We have to use the standardized dataframe to show all features on one scale\n",
    "dtivo_stdk4 = dtivo_std.copy()\n",
    "dtivo_stdk4['k4'] = k4_model.labels_\n",
    "dtivo_stdk4.head()"
   ]
  },
  {
   "cell_type": "code",
   "execution_count": null,
   "id": "def35821",
   "metadata": {},
   "outputs": [],
   "source": [
    "colsKept = list(dtivo_std.columns)\n",
    "medprops = dict(linewidth=3)  #line width of median in box plot.\n",
    "\n",
    "gpbxplot = dtivo_stdk4.groupby('k4').boxplot(column= colsKept,\n",
    "                                             figsize=(12, 12),\n",
    "                                             patch_artist=True,     #patches are the boxes - True allows us to change its colors\n",
    "                                             medianprops=medprops)  #can change the median line properties using median props\n",
    "#Amending the coloring\n",
    "bxcmap = plt.get_cmap('plasma', len(colsKept))\n",
    "bxcolors = [bxcmap(i) for i in range(0,len(colsKept))]\n",
    "for i, ax in enumerate(gpbxplot):\n",
    "    ax.set_title(f\"CLUSTER {i}: Size ={pivot_k4.loc[i,'Size'].iat[0]}\")\n",
    "    ax.tick_params(labelleft=True)\n",
    "    for j, patch in enumerate(ax.patches):\n",
    "        patch.set_facecolor(bxcolors[j])\n",
    "plt.tight_layout(pad=3.0)\n",
    "#gpbxplot[1].get_figure()"
   ]
  },
  {
   "cell_type": "code",
   "execution_count": null,
   "id": "d2401531",
   "metadata": {},
   "outputs": [],
   "source": [
    "#TODO-32: How do we save the plot?\n",
    "fig_k6boxplot = gpbxplot[1].get_figure()\n",
    "fig_k6boxplot.savefig('boxplot_k6.png', dpi=400)"
   ]
  },
  {
   "cell_type": "markdown",
   "id": "d093145a",
   "metadata": {},
   "source": [
    "### BUT - What if we are trying to find the best 'k'?"
   ]
  },
  {
   "cell_type": "markdown",
   "id": "64c1daf1",
   "metadata": {},
   "source": [
    "#### Method #1: 'Elbow' method - one way to visualise distances within clusters\n",
    "\n",
    "In scikit-learn's KMeans algorithm, the attribute `inertia_` represents the sum of squared distances of samples to their nearest cluster center. It is a measure of how well the data points are clustered. Lower inertia values indicate that the data points are closer to their respective cluster centers, which generally means better clustering¹.\n",
    "\n",
    "We will use this to see which clustering has a reasonably acceptable inertia\n",
    "\n",
    "(1) k_means — scikit-learn 1.5.2 documentation. https://scikit-learn.org/stable/modules/generated/sklearn.cluster.k_means.html.\n"
   ]
  },
  {
   "cell_type": "code",
   "execution_count": null,
   "id": "fa15b4e3",
   "metadata": {},
   "outputs": [],
   "source": [
    "k4_model.inertia_"
   ]
  },
  {
   "cell_type": "code",
   "execution_count": null,
   "id": "e71bef04",
   "metadata": {},
   "outputs": [],
   "source": [
    "##ONLY INSTALL THE FOLLOWING IF YOU DIDN'T INSTALL REQUIREMENTS\n",
    "##AND ARE USING YOUR OWN PANDAS VERSION\n",
    "##%pip install yellowbrick"
   ]
  },
  {
   "cell_type": "code",
   "execution_count": 56,
   "id": "d88040d5",
   "metadata": {},
   "outputs": [],
   "source": [
    "# matplotlib might cause font problems in VS Code.  For that I've done the following\n",
    "plt.rcParams['font.sans-serif'] = ['DejaVu Sans'] \n",
    "plt.rcParams['font.family'] = 'sans-serif'\n"
   ]
  },
  {
   "cell_type": "code",
   "execution_count": 57,
   "id": "4f721314",
   "metadata": {},
   "outputs": [],
   "source": [
    "from yellowbrick.cluster import KElbowVisualizer"
   ]
  },
  {
   "cell_type": "code",
   "execution_count": null,
   "id": "19ef27e0",
   "metadata": {},
   "outputs": [],
   "source": [
    "#Set-up the KElbowVisualizer\n",
    "kBegin = 3\n",
    "kEnd = 15\n",
    "km = KMeans(random_state=111)\n",
    "visualizer = KElbowVisualizer(km, k=(kBegin,kEnd), timings=False)\n",
    "visualizer.fit(dtivo_std)\n",
    "visualizer.show()"
   ]
  },
  {
   "cell_type": "markdown",
   "id": "650c9a39",
   "metadata": {},
   "source": [
    "**Question**: **_As a marketing person, would you agree with setting the number of clusters to the one shown in the elbow?_**\n",
    "\n",
    "*ANS*:\n"
   ]
  },
  {
   "cell_type": "markdown",
   "id": "a8d5c923",
   "metadata": {},
   "source": [
    "#### Silhouette Score\n",
    "Considers both intra-cluster and inter-cluster distances adn scores that"
   ]
  },
  {
   "cell_type": "markdown",
   "id": "e032a8f9",
   "metadata": {},
   "source": [
    "##### Average Silhouette Score"
   ]
  },
  {
   "cell_type": "code",
   "execution_count": null,
   "id": "6fa5c1d1",
   "metadata": {},
   "outputs": [],
   "source": [
    "#Change the metric to 'silhouette'\n",
    "vizElbowSil = KElbowVisualizer(km,\n",
    "                               metric='silhouette',\n",
    "                               k=(kBegin, kEnd),\n",
    "                               timings=False)\n",
    "vizElbowSil.fit(dtivo_std)\n",
    "vizElbowSil.show()"
   ]
  },
  {
   "cell_type": "markdown",
   "id": "8079e486",
   "metadata": {},
   "source": [
    "##### Detailed Silhouette per Clustering"
   ]
  },
  {
   "cell_type": "code",
   "execution_count": 60,
   "id": "cabd665a",
   "metadata": {},
   "outputs": [],
   "source": [
    "#Import Special Visualizer\n",
    "from yellowbrick.cluster import SilhouetteVisualizer"
   ]
  },
  {
   "cell_type": "code",
   "execution_count": null,
   "id": "216fcd5a",
   "metadata": {},
   "outputs": [],
   "source": [
    "km = KMeans(n_clusters=4, random_state=111)\n",
    "silViz = SilhouetteVisualizer(km, colors='yellowbrick')\n",
    "silViz.fit(dtivo_std)\n",
    "silViz.show()"
   ]
  },
  {
   "cell_type": "markdown",
   "id": "e87ad533",
   "metadata": {},
   "source": [
    "##### How to Interpret the Plot\n"
   ]
  },
  {
   "cell_type": "markdown",
   "id": "39bc36b2",
   "metadata": {},
   "source": [
    "\n",
    "- **Cluster Cohesion and Separation**:\n",
    "  - **High Silhouette Values**: Clusters with high silhouette values (close to +1) indicate that the samples are well-clustered and distinct from other clusters.\n",
    "  - **Low or Negative Silhouette Values**: Clusters with low or negative silhouette values suggest that the samples are not well-clustered and may be overlapping with other clusters.\n",
    "\n",
    "- **Cluster Size**:\n",
    "  - The thickness of each silhouette plot indicates the size of the cluster. Thicker plots mean larger clusters.\n",
    "\n",
    "- **Consistency Across Clusters**:\n",
    "  - Ideally, you want clusters to have similar silhouette scores and sizes, indicating balanced and well-separated clusters.\n",
    "\n",
    "**Q**: *Which cluster is best in terms of cohesion within?*"
   ]
  },
  {
   "cell_type": "markdown",
   "id": "27045304",
   "metadata": {},
   "source": [
    "\n",
    "##### Key Components of a Silhouette Plot\n"
   ]
  },
  {
   "cell_type": "markdown",
   "id": "d096c5b2",
   "metadata": {},
   "source": [
    "\n",
    "1. **Silhouette Coefficient Values**:\n",
    "   - **Range**: The silhouette coefficient ranges from -1 to 1.\n",
    "   - **Interpretation**:\n",
    "     - **+1**: Indicates that the sample is far away from the neighboring clusters, suggesting a good fit within its own cluster.\n",
    "     - **0**: Indicates that the sample is on or very close to the decision boundary between two neighboring clusters.\n",
    "     - **-1**: Indicates that the sample might have been assigned to the wrong cluster.\n",
    "\n",
    "2. **Silhouette Plot Structure**:\n",
    "   - **X-axis**: Represents the silhouette coefficient values.\n",
    "   - **Y-axis**: Represents the cluster labels.\n",
    "   - **Width of Silhouette**: The width of each silhouette plot corresponds to the number of samples in that cluster.\n",
    "   - **Color Coding**: Different colors are used to distinguish between different clusters.\n",
    "\n",
    "3. **Average Silhouette Score**:\n",
    "   - A vertical line is often drawn on the plot to indicate the average silhouette score for all samples. This helps to quickly assess the overall quality of the clustering."
   ]
  },
  {
   "cell_type": "markdown",
   "id": "53a49393",
   "metadata": {},
   "source": [
    "##### Multiple Silhoette Plots"
   ]
  },
  {
   "cell_type": "code",
   "execution_count": null,
   "id": "4b129d48",
   "metadata": {
    "scrolled": true
   },
   "outputs": [],
   "source": [
    "plt.clf()\n",
    "kStart = 3\n",
    "kStop = 7  #last k for which you want a subplot\n",
    "subx = 0  #staring row index of subplot on which to plot\n",
    "fig, ax = plt.subplots(kStop - kStart, 1,\n",
    "                       figsize=(7, 16), sharex=True)\n",
    "fig.tight_layout(pad=5.0)\n",
    "for i in range(kStart, kStop):\n",
    "    ax[subx].set_title(f\"Silhouette values for k= {i}\")\n",
    "    ax[subx].tick_params(labelbottom=True)\n",
    "    km = KMeans(n_clusters=i, random_state=111)\n",
    "    silViz = SilhouetteVisualizer(km, colors='yellowbrick', ax=ax[subx])\n",
    "    silViz.fit(dtivo_std)\n",
    "    silViz.finalize()\n",
    "    subx += 1"
   ]
  },
  {
   "cell_type": "markdown",
   "id": "97825bbe",
   "metadata": {},
   "source": [
    "### EXERCISE-TODO: Cluster using OUR best k in k=3 to k=6 range"
   ]
  },
  {
   "cell_type": "markdown",
   "id": "ab155f93",
   "metadata": {},
   "source": [
    "\n",
    "If you look at a silhouette plot and see that:\n",
    "- Most of the silhouette values are close to +1, it means the clustering is good.\n",
    "- If there are many values around 0, it suggests that the clusters are not well-separated.\n",
    "- Negative values indicate that some samples might be in the wrong cluster.\n",
    "\n",
    "By analyzing these aspects, you can determine the optimal number of clusters and the quality of your clustering.\n"
   ]
  },
  {
   "cell_type": "markdown",
   "id": "33f23ef2",
   "metadata": {},
   "source": [
    "#### Fitting the k-means model for k= ??"
   ]
  },
  {
   "cell_type": "code",
   "execution_count": 89,
   "id": "f6d421a8",
   "metadata": {
    "scrolled": true
   },
   "outputs": [],
   "source": []
  },
  {
   "cell_type": "markdown",
   "id": "d1bed8c5",
   "metadata": {},
   "source": [
    "#### Tagging the segmentation bases dataset with cluster numbers"
   ]
  },
  {
   "cell_type": "code",
   "execution_count": null,
   "id": "b1d9d841",
   "metadata": {},
   "outputs": [],
   "source": [
    "\n",
    "\n"
   ]
  },
  {
   "cell_type": "markdown",
   "id": "3cbd10fa",
   "metadata": {},
   "source": [
    "#### Cluster Analysis FOR k=??"
   ]
  },
  {
   "cell_type": "markdown",
   "id": "abb1a879",
   "metadata": {},
   "source": [
    "#### Summary table, with descriptors and segment value"
   ]
  },
  {
   "cell_type": "code",
   "execution_count": null,
   "id": "6a574b62",
   "metadata": {},
   "outputs": [],
   "source": [
    "\n",
    "\n",
    "\n"
   ]
  },
  {
   "cell_type": "code",
   "execution_count": null,
   "id": "cbdd6801",
   "metadata": {},
   "outputs": [],
   "source": []
  },
  {
   "cell_type": "markdown",
   "id": "6921137b",
   "metadata": {},
   "source": [
    "#### Box Plots of k=?? clusters by descriptors"
   ]
  },
  {
   "cell_type": "code",
   "execution_count": null,
   "id": "938f91f2",
   "metadata": {},
   "outputs": [],
   "source": [
    "\n",
    "\n",
    "\n",
    "\n",
    "\n",
    "\n",
    "\n"
   ]
  },
  {
   "cell_type": "code",
   "execution_count": null,
   "id": "7dac7ae2",
   "metadata": {},
   "outputs": [],
   "source": []
  }
 ],
 "metadata": {
  "kernelspec": {
   "display_name": "Python 3",
   "language": "python",
   "name": "python3"
  },
  "language_info": {
   "codemirror_mode": {
    "name": "ipython",
    "version": 3
   },
   "file_extension": ".py",
   "mimetype": "text/x-python",
   "name": "python",
   "nbconvert_exporter": "python",
   "pygments_lexer": "ipython3",
   "version": "3.12.1"
  },
  "toc": {
   "base_numbering": 1,
   "nav_menu": {},
   "number_sections": true,
   "sideBar": true,
   "skip_h1_title": true,
   "title_cell": "Table of Contents",
   "title_sidebar": "Contents",
   "toc_cell": false,
   "toc_position": {
    "height": "calc(100% - 180px)",
    "left": "10px",
    "top": "150px",
    "width": "372px"
   },
   "toc_section_display": true,
   "toc_window_display": false
  },
  "varInspector": {
   "cols": {
    "lenName": 16,
    "lenType": 16,
    "lenVar": 40
   },
   "kernels_config": {
    "python": {
     "delete_cmd_postfix": "",
     "delete_cmd_prefix": "del ",
     "library": "var_list.py",
     "varRefreshCmd": "print(var_dic_list())"
    },
    "r": {
     "delete_cmd_postfix": ") ",
     "delete_cmd_prefix": "rm(",
     "library": "var_list.r",
     "varRefreshCmd": "cat(var_dic_list()) "
    }
   },
   "types_to_exclude": [
    "module",
    "function",
    "builtin_function_or_method",
    "instance",
    "_Feature"
   ],
   "window_display": false
  }
 },
 "nbformat": 4,
 "nbformat_minor": 5
}
