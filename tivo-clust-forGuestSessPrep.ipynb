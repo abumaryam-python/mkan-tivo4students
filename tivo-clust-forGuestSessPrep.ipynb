{
 "cells": [
  {
   "cell_type": "markdown",
   "id": "b8964a0c",
   "metadata": {},
   "source": [
    "# TiVo - Segmentation Analysis using _k_-means Clustering"
   ]
  },
  {
   "cell_type": "markdown",
   "id": "936b2887",
   "metadata": {},
   "source": [
    "## Name & ID"
   ]
  },
  {
   "cell_type": "markdown",
   "id": "0e5f997b",
   "metadata": {},
   "source": [
    "**NAME: STUDENT Z**<br>\n",
    "*roll no: m04000zzz*"
   ]
  },
  {
   "cell_type": "markdown",
   "id": "6f104e18",
   "metadata": {},
   "source": [
    "## Import General Packages"
   ]
  },
  {
   "cell_type": "code",
   "execution_count": 1,
   "id": "f6eebaf9",
   "metadata": {},
   "outputs": [],
   "source": [
    "import pandas as pd\n",
    "import numpy as np\n",
    "import matplotlib.pyplot as plt"
   ]
  },
  {
   "cell_type": "markdown",
   "id": "8fda0b30",
   "metadata": {},
   "source": [
    "## Read and feel the data"
   ]
  },
  {
   "cell_type": "markdown",
   "id": "f7154ce9",
   "metadata": {},
   "source": [
    "### Read in from Excel file"
   ]
  },
  {
   "cell_type": "code",
   "execution_count": 2,
   "id": "f505d9e2",
   "metadata": {},
   "outputs": [
    {
     "name": "stdout",
     "output_type": "stream",
     "text": [
      "Requirement already satisfied: openpyxl in /usr/local/python/3.12.1/lib/python3.12/site-packages (3.1.5)\n",
      "Requirement already satisfied: et-xmlfile in /usr/local/python/3.12.1/lib/python3.12/site-packages (from openpyxl) (1.1.0)\n"
     ]
    }
   ],
   "source": [
    "!pip install openpyxl"
   ]
  },
  {
   "cell_type": "code",
   "execution_count": 3,
   "id": "1b8e64d8",
   "metadata": {},
   "outputs": [
    {
     "data": {
      "text/html": [
       "<div>\n",
       "<style scoped>\n",
       "    .dataframe tbody tr th:only-of-type {\n",
       "        vertical-align: middle;\n",
       "    }\n",
       "\n",
       "    .dataframe tbody tr th {\n",
       "        vertical-align: top;\n",
       "    }\n",
       "\n",
       "    .dataframe thead th {\n",
       "        text-align: right;\n",
       "    }\n",
       "</style>\n",
       "<table border=\"1\" class=\"dataframe\">\n",
       "  <thead>\n",
       "    <tr style=\"text-align: right;\">\n",
       "      <th></th>\n",
       "      <th>Gender</th>\n",
       "      <th>Education</th>\n",
       "      <th>Income</th>\n",
       "      <th>Age</th>\n",
       "      <th>PurchasePoint</th>\n",
       "      <th>ElecSpend_Annual</th>\n",
       "      <th>Tvhours</th>\n",
       "      <th>TechAdopt</th>\n",
       "      <th>Fav_Feature</th>\n",
       "    </tr>\n",
       "    <tr>\n",
       "      <th>ID</th>\n",
       "      <th></th>\n",
       "      <th></th>\n",
       "      <th></th>\n",
       "      <th></th>\n",
       "      <th></th>\n",
       "      <th></th>\n",
       "      <th></th>\n",
       "      <th></th>\n",
       "      <th></th>\n",
       "    </tr>\n",
       "  </thead>\n",
       "  <tbody>\n",
       "    <tr>\n",
       "      <th>1</th>\n",
       "      <td>male</td>\n",
       "      <td>none</td>\n",
       "      <td>49</td>\n",
       "      <td>30</td>\n",
       "      <td>mass-consumer electronics</td>\n",
       "      <td>420</td>\n",
       "      <td>2</td>\n",
       "      <td>late</td>\n",
       "      <td>saving favorite shows to watch as a family</td>\n",
       "    </tr>\n",
       "    <tr>\n",
       "      <th>2</th>\n",
       "      <td>male</td>\n",
       "      <td>none</td>\n",
       "      <td>46</td>\n",
       "      <td>36</td>\n",
       "      <td>mass-consumer electronics</td>\n",
       "      <td>420</td>\n",
       "      <td>10</td>\n",
       "      <td>late</td>\n",
       "      <td>saving favorite shows to watch as a family</td>\n",
       "    </tr>\n",
       "    <tr>\n",
       "      <th>3</th>\n",
       "      <td>male</td>\n",
       "      <td>BA</td>\n",
       "      <td>58</td>\n",
       "      <td>66</td>\n",
       "      <td>specialty stores</td>\n",
       "      <td>768</td>\n",
       "      <td>0</td>\n",
       "      <td>early</td>\n",
       "      <td>time shifting</td>\n",
       "    </tr>\n",
       "    <tr>\n",
       "      <th>4</th>\n",
       "      <td>male</td>\n",
       "      <td>PhD</td>\n",
       "      <td>51</td>\n",
       "      <td>78</td>\n",
       "      <td>mass-consumer electronics</td>\n",
       "      <td>396</td>\n",
       "      <td>5</td>\n",
       "      <td>late</td>\n",
       "      <td>saving favorite shows to watch as a family</td>\n",
       "    </tr>\n",
       "    <tr>\n",
       "      <th>5</th>\n",
       "      <td>female</td>\n",
       "      <td>none</td>\n",
       "      <td>46</td>\n",
       "      <td>52</td>\n",
       "      <td>mass-consumer electronics</td>\n",
       "      <td>540</td>\n",
       "      <td>2</td>\n",
       "      <td>late</td>\n",
       "      <td>saving favorite shows to watch as a family</td>\n",
       "    </tr>\n",
       "  </tbody>\n",
       "</table>\n",
       "</div>"
      ],
      "text/plain": [
       "    Gender Education  Income  Age              PurchasePoint  \\\n",
       "ID                                                             \n",
       "1     male      none      49   30  mass-consumer electronics   \n",
       "2     male      none      46   36  mass-consumer electronics   \n",
       "3     male        BA      58   66           specialty stores   \n",
       "4     male       PhD      51   78  mass-consumer electronics   \n",
       "5   female      none      46   52  mass-consumer electronics   \n",
       "\n",
       "    ElecSpend_Annual  Tvhours TechAdopt  \\\n",
       "ID                                        \n",
       "1                420        2      late   \n",
       "2                420       10      late   \n",
       "3                768        0     early   \n",
       "4                396        5      late   \n",
       "5                540        2      late   \n",
       "\n",
       "                                   Fav_Feature  \n",
       "ID                                              \n",
       "1   saving favorite shows to watch as a family  \n",
       "2   saving favorite shows to watch as a family  \n",
       "3                                time shifting  \n",
       "4   saving favorite shows to watch as a family  \n",
       "5   saving favorite shows to watch as a family  "
      ]
     },
     "execution_count": 3,
     "metadata": {},
     "output_type": "execute_result"
    }
   ],
   "source": [
    "#TODO-01>> Which command to use to read in the Excel file in data folder?\n",
    "dtivo_master = pd.read_excel('./data/tivo_subset.xlsx',\n",
    "                             index_col=0)            #Read in the first column (ID) as the index\n",
    "dtivo_master.head()"
   ]
  },
  {
   "cell_type": "markdown",
   "id": "00eeb877",
   "metadata": {},
   "source": [
    "### Get a feel of the data"
   ]
  },
  {
   "cell_type": "code",
   "execution_count": 4,
   "id": "00a85ab0",
   "metadata": {},
   "outputs": [
    {
     "name": "stdout",
     "output_type": "stream",
     "text": [
      "<class 'pandas.core.frame.DataFrame'>\n",
      "Index: 1000 entries, 1 to 1000\n",
      "Data columns (total 9 columns):\n",
      " #   Column            Non-Null Count  Dtype \n",
      "---  ------            --------------  ----- \n",
      " 0   Gender            1000 non-null   object\n",
      " 1   Education         1000 non-null   object\n",
      " 2   Income            1000 non-null   int64 \n",
      " 3   Age               1000 non-null   int64 \n",
      " 4   PurchasePoint     1000 non-null   object\n",
      " 5   ElecSpend_Annual  1000 non-null   int64 \n",
      " 6   Tvhours           1000 non-null   int64 \n",
      " 7   TechAdopt         1000 non-null   object\n",
      " 8   Fav_Feature       1000 non-null   object\n",
      "dtypes: int64(4), object(5)\n",
      "memory usage: 78.1+ KB\n"
     ]
    }
   ],
   "source": [
    "dtivo_master.info()"
   ]
  },
  {
   "cell_type": "code",
   "execution_count": 5,
   "id": "cf8959f8",
   "metadata": {},
   "outputs": [
    {
     "data": {
      "text/plain": [
       "TechAdopt  Fav_Feature                               \n",
       "early      cool gadget                                   228\n",
       "           schedule control                              221\n",
       "           time shifting                                 221\n",
       "           programming/interactive features              130\n",
       "late       saving favorite shows to watch as a family    200\n",
       "Name: count, dtype: int64"
      ]
     },
     "execution_count": 5,
     "metadata": {},
     "output_type": "execute_result"
    }
   ],
   "source": [
    "dtivo_master.groupby('TechAdopt')['Fav_Feature'].value_counts()"
   ]
  },
  {
   "cell_type": "markdown",
   "id": "bfcc6aa5",
   "metadata": {},
   "source": [
    "Given this output, we can assign numbers as follows:\n",
    "1. --> saving favorite...\n",
    "1. --> cool gadget (general statement, not specific about which feature)\n",
    "1. --> schedule control (slightly advanced feature)\n",
    "1. --> time shifting (more advanced feature)\n",
    "1. --> programming/interactive features (most advanced feature)"
   ]
  },
  {
   "cell_type": "code",
   "execution_count": 6,
   "id": "bdc8a265",
   "metadata": {},
   "outputs": [
    {
     "data": {
      "text/plain": [
       "TechAdopt  PurchasePoint            \n",
       "early      retail                       294\n",
       "           discount                     293\n",
       "           specialty stores             170\n",
       "           web (ebay)                    43\n",
       "late       mass-consumer electronics    200\n",
       "Name: count, dtype: int64"
      ]
     },
     "execution_count": 6,
     "metadata": {},
     "output_type": "execute_result"
    }
   ],
   "source": [
    "#TODO-03: Obtain grouped value counts for Purchase_Point\n",
    "#and write in commentary under it, what ordinal scale would\n",
    "#suitable?\n",
    "dtivo_master.groupby('TechAdopt')['PurchasePoint'].value_counts()\n"
   ]
  },
  {
   "cell_type": "markdown",
   "id": "f99f06b9",
   "metadata": {},
   "source": [
    "Given this output, we can assign numbers as follows:\n",
    "1. --> discount\n",
    "1. --> retail\n",
    "1. --> specialty stores\n",
    "1. --> web(ebay)\n",
    "1. --> mass-consumer electronics"
   ]
  },
  {
   "cell_type": "markdown",
   "id": "6188dffe",
   "metadata": {},
   "source": [
    "## Data Transformations"
   ]
  },
  {
   "cell_type": "code",
   "execution_count": 6,
   "id": "c137e5ce",
   "metadata": {},
   "outputs": [],
   "source": [
    "#Make a copy of the master DataFrame to apply\n",
    "#transformations to.\n",
    "dtivo = dtivo_master.copy()"
   ]
  },
  {
   "cell_type": "markdown",
   "id": "e4bc985b",
   "metadata": {},
   "source": [
    "### Factorizations"
   ]
  },
  {
   "cell_type": "markdown",
   "id": "aa7fd871",
   "metadata": {},
   "source": [
    "**CONSIDER USING SIMPLE FACTORIZATION**"
   ]
  },
  {
   "cell_type": "markdown",
   "id": "41f7e1c0",
   "metadata": {},
   "source": [
    "#### Education"
   ]
  },
  {
   "cell_type": "code",
   "execution_count": null,
   "id": "77add21b",
   "metadata": {
    "scrolled": true
   },
   "outputs": [],
   "source": [
    "#TODO-04: Get list/arry of unique categories\n",
    "ed_types = dtivo['Education'].unique()\n",
    "print(ed_types)"
   ]
  },
  {
   "cell_type": "code",
   "execution_count": null,
   "id": "6beac181",
   "metadata": {
    "scrolled": true
   },
   "outputs": [],
   "source": [
    "#TODO-05-06: Provide a list of numbers in order required \n",
    "#e.g. we want numbers to increase with level of education - \n",
    "#so PhD is given 4\n",
    "\n",
    "ed_levels = [1,2,4,3]  #order numbers matched against ed_types list\n",
    "dict_edtypes = dict(zip(ed_types,ed_levels))\n",
    "print(dict_edtypes)"
   ]
  },
  {
   "cell_type": "code",
   "execution_count": null,
   "id": "4bdde3ae",
   "metadata": {
    "scrolled": false
   },
   "outputs": [],
   "source": [
    "#TODO-07: Map the zipped dictionary from 'Education' to 'Ed_Coded'\n",
    "dtivo['Ed_Coded'] = dtivo['Education'].map(dict_edtypes)\n",
    "dtivo.head(10)"
   ]
  },
  {
   "cell_type": "markdown",
   "id": "46bc4bd4",
   "metadata": {},
   "source": [
    "#### Fav_Feature"
   ]
  },
  {
   "cell_type": "code",
   "execution_count": null,
   "id": "f35aaa5f",
   "metadata": {
    "scrolled": true
   },
   "outputs": [],
   "source": [
    "fav_types = dtivo['Fav_Feature'].unique()\n",
    "list(enumerate(fav_types))  #enumerate just to count number of types"
   ]
  },
  {
   "cell_type": "code",
   "execution_count": null,
   "id": "cdbf70f0",
   "metadata": {
    "scrolled": true
   },
   "outputs": [],
   "source": [
    "#Given own numerical levels of fav justified earlier.\n",
    "fav_levels = [1,4,2,3,5]  #follows order of ed_types\n",
    "dict_favtypes = dict(zip(fav_types,fav_levels))\n",
    "print(dict_favtypes)"
   ]
  },
  {
   "cell_type": "code",
   "execution_count": null,
   "id": "32703d41",
   "metadata": {},
   "outputs": [],
   "source": [
    "#Map the zipped dictionary from 'Fav_Feature' to 'Fav_Coded'\n",
    "dtivo['Fav_Coded'] = dtivo['Fav_Feature'].map(dict_favtypes)\n",
    "dtivo.head(10)"
   ]
  },
  {
   "cell_type": "markdown",
   "id": "6399480a",
   "metadata": {},
   "source": [
    "#### PurchasePoint "
   ]
  },
  {
   "cell_type": "code",
   "execution_count": null,
   "id": "718a786b",
   "metadata": {
    "scrolled": false
   },
   "outputs": [],
   "source": [
    "#TODO-08: Get list/arry of unique categories\n",
    "ppoint_types = dtivo['PurchasePoint'].unique()\n",
    "list(enumerate(ppoint_types))"
   ]
  },
  {
   "cell_type": "markdown",
   "id": "e927c9d3",
   "metadata": {},
   "source": [
    "Given this output, we can assign numbers as follows:\n",
    "\n",
    "1. --> discount\n",
    "1. --> retail\n",
    "1. --> specialty stores\n",
    "1. --> web(ebay)\n",
    "1. --> mass-consumer electronics"
   ]
  },
  {
   "cell_type": "code",
   "execution_count": null,
   "id": "15294d01",
   "metadata": {
    "scrolled": true
   },
   "outputs": [],
   "source": [
    "#TODO-09-10: Provide a list of numbers in order justified in TODO-03. \n",
    "ppoint_levels = [5,3,2,1,4]\n",
    "dict_pptypes = dict(zip(ppoint_types,ppoint_levels))\n",
    "print(dict_pptypes)"
   ]
  },
  {
   "cell_type": "code",
   "execution_count": null,
   "id": "9879efcf",
   "metadata": {
    "scrolled": false
   },
   "outputs": [],
   "source": [
    "#TODO-11: Map the zipped dictionary from 'PurchasePoint' to 'PPoint_Coded'\n",
    "dtivo['PPoint_Coded'] = dtivo['PurchasePoint'].map(dict_pptypes)\n",
    "dtivo.head(10)"
   ]
  },
  {
   "cell_type": "markdown",
   "id": "93d56e6e",
   "metadata": {},
   "source": [
    "### Making Dummy Variables (or One-Hot Encoding)"
   ]
  },
  {
   "cell_type": "markdown",
   "id": "1d6b9a43",
   "metadata": {},
   "source": [
    "When we have binary variables **OR** if each category needs its own column,<br>\n",
    "we use `pd.get_dummies()` to create dummy variable columns.\n",
    "\n",
    "This is also called **\"One-Hot Encoding\" (OHE)**, when a category becomes<br>\n",
    "a binary (0,1) variable.  It is quite useful for performing regression with<br>\n",
    "categorical explanatory variables.<br>\n",
    "\n",
    "In our case, OHE can be applied to `TechAdopt` and `Gender` They are binary and<br>\n",
    "we only need one of them to define the category."
   ]
  },
  {
   "cell_type": "code",
   "execution_count": null,
   "id": "0e388f1e",
   "metadata": {},
   "outputs": [],
   "source": [
    "dummCols = ['Gender']   #TODO-12: Add TechAdopt to this list\n",
    "#TODO-13: apply get_dummies to all columns that need categories\n",
    "#converted to binary\n",
    "dtivo = pd.get_dummies(dtivo, columns = dummCols, dtype=int)\n",
    "dtivo.head()"
   ]
  },
  {
   "cell_type": "markdown",
   "id": "bb9f6638",
   "metadata": {},
   "source": [
    "### Rows to keep for clustering\n",
    "We are only interested at launch in segments *within* early adopters => filter out late adopters.\n"
   ]
  },
  {
   "cell_type": "code",
   "execution_count": null,
   "id": "192ce373",
   "metadata": {
    "scrolled": true
   },
   "outputs": [],
   "source": [
    "#Assuming we have done some segment targeting already - like focus on Early adopters only.\n",
    "dtivo_early = dtivo[dtivo['TechAdopt']=='early']\n",
    "len(dtivo_early)"
   ]
  },
  {
   "cell_type": "code",
   "execution_count": null,
   "id": "46594f96",
   "metadata": {},
   "outputs": [],
   "source": [
    "outlierIDs = [441, 923]\n",
    "dtivo_early.drop(index=outlierIDs, inplace=True)"
   ]
  },
  {
   "cell_type": "code",
   "execution_count": null,
   "id": "f7e0eccc",
   "metadata": {},
   "outputs": [],
   "source": [
    "len(dtivo_early)"
   ]
  },
  {
   "cell_type": "markdown",
   "id": "68b9955d",
   "metadata": {},
   "source": [
    "### Columns to keep for clustering"
   ]
  },
  {
   "cell_type": "code",
   "execution_count": null,
   "id": "7ac02270",
   "metadata": {
    "scrolled": true
   },
   "outputs": [],
   "source": [
    "colsAll = list(dtivo_early.columns)\n",
    "colsAll"
   ]
  },
  {
   "cell_type": "code",
   "execution_count": null,
   "id": "b47f4f86",
   "metadata": {
    "scrolled": false
   },
   "outputs": [],
   "source": [
    "colsToDrop = ['Education',      #factorized\n",
    "              'PurchasePoint',  #will be factorized, need to keep its coded form when factorized\n",
    "              'Tvhours',        #Initially using as descriptor not basis so dropping here, also to keep it simple\n",
    "              'TechAdopt',      #Don't need after filtering out TechAdopter==late.\n",
    "              'Fav_Feature',    #factorized\n",
    "              'Gender_female',  #already have male who are more frequent so don't need female\n",
    "              'Fav_Coded',      #Treating as descriptor to inform promotion, not as cluster basis.\n",
    "              'PPoint_Coded',  #Treating as descriptor to inform promotion, not as cluster basis.\n",
    "                                #TODO-14 - ADD MORE COLUMNS TO DROP AFTER COMPLETING EARLIER TODOS\n",
    "             ]\n",
    "\n",
    "dtivo_bases = dtivo_early.drop(columns=colsToDrop)\n",
    "colsKept = list(dtivo_bases.columns)\n",
    "print(colsKept)\n",
    "dtivo_bases.head()"
   ]
  },
  {
   "cell_type": "markdown",
   "id": "3841daa6",
   "metadata": {},
   "source": [
    "## Normalize using Standardization"
   ]
  },
  {
   "cell_type": "markdown",
   "id": "013656d1",
   "metadata": {},
   "source": [
    "If Clustering has to give equal weight to each field (or 'feature' in ML terms), then<br>\n",
    "we must make sure they are on the same scale (i.e. **Normalize** the fields).\n",
    "\n",
    "If we are interested in how our segments vary from the average (e.g. <br>\n",
    "above average income, highly below average age, etc.), then we use<br>\n",
    "**Standardization** for normalization.\n"
   ]
  },
  {
   "cell_type": "code",
   "execution_count": 22,
   "id": "03917ebc",
   "metadata": {
    "scrolled": true
   },
   "outputs": [],
   "source": [
    "#IMPORT PACKAGE FOR STANDARDIZATION\n",
    "from sklearn import preprocessing"
   ]
  },
  {
   "cell_type": "code",
   "execution_count": null,
   "id": "d471e44f",
   "metadata": {
    "scrolled": true
   },
   "outputs": [],
   "source": [
    "#STANDARDIZED SCALING\n",
    "## TODO-23: need to reconvert to DataFrame as sklearn produces\n",
    "## numerical array without headings\n",
    "dtivo_std = pd.DataFrame(preprocessing.scale(dtivo_bases),\n",
    "                         columns=colsKept,                 #TODO-15: REVIEW in light of TODO-14.\n",
    "                         index=dtivo_bases.index\n",
    "                        )\n",
    "\n",
    "#only for checking if done\n",
    "dtivo_std.describe().round(2)"
   ]
  },
  {
   "cell_type": "code",
   "execution_count": null,
   "id": "e4dfa821",
   "metadata": {},
   "outputs": [],
   "source": [
    "dtivo_std.head()"
   ]
  },
  {
   "cell_type": "markdown",
   "id": "5dae3a3e",
   "metadata": {},
   "source": [
    "## K-means Clustering"
   ]
  },
  {
   "cell_type": "code",
   "execution_count": 25,
   "id": "59207e35",
   "metadata": {
    "scrolled": true
   },
   "outputs": [],
   "source": [
    "#Import Required Packages\n",
    "from sklearn.cluster import KMeans"
   ]
  },
  {
   "cell_type": "markdown",
   "id": "0358ffa7",
   "metadata": {},
   "source": [
    "### Learning Step: Start by making k=4 clusters"
   ]
  },
  {
   "cell_type": "markdown",
   "id": "8d915f34",
   "metadata": {},
   "source": [
    "#### Fitting the k-means model for k=4"
   ]
  },
  {
   "cell_type": "code",
   "execution_count": 26,
   "id": "93c92f1f",
   "metadata": {
    "scrolled": true
   },
   "outputs": [],
   "source": [
    "#TODO-16: Fit 4 clusters using KMeans to standardized data\n",
    "k4_model = KMeans(n_clusters=4, \n",
    "                  random_state=111).fit(dtivo_std)"
   ]
  },
  {
   "cell_type": "markdown",
   "id": "d0e320cd",
   "metadata": {},
   "source": [
    "#### Tagging the segmentation bases dataset with cluster numbers"
   ]
  },
  {
   "cell_type": "code",
   "execution_count": null,
   "id": "07a6b9cc",
   "metadata": {},
   "outputs": [],
   "source": [
    "#TODO-17: Tag clusters in df _cl2 for cluster analysis\n",
    "dtivo_k4 = dtivo_bases.copy()\n",
    "dtivo_k4['k4'] = k4_model.labels_\n",
    "dtivo_k4.head()"
   ]
  },
  {
   "cell_type": "code",
   "execution_count": 28,
   "id": "1175fb3f",
   "metadata": {},
   "outputs": [],
   "source": [
    "dtivo_k4.to_csv(\"outputs/dtivo_k4.csv\")"
   ]
  },
  {
   "cell_type": "markdown",
   "id": "7fd3261e",
   "metadata": {},
   "source": [
    "### Learning Step: First Cluster Analysis"
   ]
  },
  {
   "cell_type": "markdown",
   "id": "703cf679",
   "metadata": {},
   "source": [
    "#### Basic summary table"
   ]
  },
  {
   "cell_type": "code",
   "execution_count": null,
   "id": "eab364e1",
   "metadata": {},
   "outputs": [],
   "source": [
    "#TODO-18: Select appropriate metrics to summarize the cluster features.\n",
    "pivot_k4 = dtivo_k4.groupby('k4').agg(['mean', 'std']).round(1)\n",
    "pivot_k4.insert(0, 'Size', dtivo_k4.groupby('k4').size())\n",
    "pivot_k4"
   ]
  },
  {
   "cell_type": "code",
   "execution_count": 30,
   "id": "d3723793",
   "metadata": {},
   "outputs": [],
   "source": [
    "pivot_k4.to_excel('outputs/pivot_k4_tivo.xlsx')"
   ]
  },
  {
   "cell_type": "code",
   "execution_count": 31,
   "id": "df223c51",
   "metadata": {},
   "outputs": [],
   "source": [
    "#TODO-19: GO BACK TO 'Rows to keep for clustering' and use the following code _there_ to \n",
    "#drop the 2 records that are outliers (As k-means has some randomness in it, your cluster\n",
    "#number may be different for the 2 records - please adjust code for that)\n",
    "\n",
    "#outlierIDs = dtivo_k4[dtivo_k4['k4']==3].index\n",
    "#print(outlierIDs)\n",
    "\n",
    "#dtivo_early.drop(index=outlierIDs, inplace=True)\n",
    "## Ignore the warning - we want to make copy different from original so its ok\n",
    "\n",
    "#len(dtivo_early)"
   ]
  },
  {
   "cell_type": "markdown",
   "id": "d28af01b",
   "metadata": {},
   "source": [
    "#### Summary table with Heatmap (k=4)"
   ]
  },
  {
   "cell_type": "code",
   "execution_count": null,
   "id": "3e96b409",
   "metadata": {},
   "outputs": [],
   "source": [
    "pk4mins = pivot_k4.min(0)\n",
    "pk4maxs = pivot_k4.max(0)\n",
    "mm_pivot = (pivot_k4 - pk4mins)/(pk4maxs-pk4mins)\n",
    "mm_pivot.round(2)"
   ]
  },
  {
   "cell_type": "code",
   "execution_count": 33,
   "id": "983c2de0",
   "metadata": {},
   "outputs": [],
   "source": [
    "import seaborn as sns\n",
    "import matplotlib.pyplot as plt\n",
    "%matplotlib inline"
   ]
  },
  {
   "cell_type": "code",
   "execution_count": null,
   "id": "52cc0c9d",
   "metadata": {},
   "outputs": [],
   "source": [
    "#TODO-20: Use min-max pivot for data, \n",
    "#and actual pivot as annotations to the heatmap\n",
    "\n",
    "fig = plt.figure(figsize=(10, 4))\n",
    "pk4_map = sns.heatmap(\n",
    "    mm_pivot,\n",
    "    annot=pivot_k4,  #actual pivot becomes annotation\n",
    "    cmap='coolwarm_r',\n",
    "    cbar=False,\n",
    "    fmt='.1f',\n",
    "    lw=0.01)\n",
    "\n",
    "pk4_map.set(xlabel='Segmentation Bases',\n",
    "           ylabel = 'Cluster')\n",
    "plt.show()"
   ]
  },
  {
   "cell_type": "code",
   "execution_count": 35,
   "id": "b702a378",
   "metadata": {},
   "outputs": [],
   "source": [
    "fig.savefig('figs/heatmap_k4_tivo.png', dpi=300, bbox_inches='tight')"
   ]
  },
  {
   "cell_type": "markdown",
   "id": "e105ee18",
   "metadata": {},
   "source": [
    "#### Defining clusters with 'persona' descriptions"
   ]
  },
  {
   "cell_type": "code",
   "execution_count": null,
   "id": "967cd2e9",
   "metadata": {},
   "outputs": [],
   "source": [
    "pivot_k4_annot = pivot_k4.copy()\n",
    "pivot_k4_annot['Persona'] = ['Budget-seeking Middle-Aged Woman',\n",
    "                             'Educated Hi-Spender',\n",
    "                             'Budget-seeking Middle-Aged Man',\n",
    "                             'Top-buck Spending Senior'\n",
    "                            ]\n",
    "pivot_k4_annot"
   ]
  },
  {
   "cell_type": "code",
   "execution_count": 37,
   "id": "9c6b6e1c",
   "metadata": {},
   "outputs": [],
   "source": [
    "pivot_k4_annot.to_excel('outputs/pivot_k4_tivo.xlsx')"
   ]
  },
  {
   "cell_type": "markdown",
   "id": "d093145a",
   "metadata": {},
   "source": [
    "### Finding the best 'k'"
   ]
  },
  {
   "cell_type": "markdown",
   "id": "64c1daf1",
   "metadata": {},
   "source": [
    "#### Elbow Method"
   ]
  },
  {
   "cell_type": "code",
   "execution_count": null,
   "id": "fa15b4e3",
   "metadata": {},
   "outputs": [],
   "source": [
    "k4_model.inertia_"
   ]
  },
  {
   "cell_type": "code",
   "execution_count": 39,
   "id": "4f721314",
   "metadata": {},
   "outputs": [],
   "source": [
    "#TODO-23: Which visualizer will we use?\n",
    "from yellowbrick.cluster import KElbowVisualizer"
   ]
  },
  {
   "cell_type": "code",
   "execution_count": null,
   "id": "19ef27e0",
   "metadata": {},
   "outputs": [],
   "source": [
    "#TODO-24: Set-up the KElbowVisualizer\n",
    "kBegin = 3\n",
    "kEnd = 15\n",
    "km = KMeans(random_state=111)\n",
    "visualizer = KElbowVisualizer(km, k=(kBegin,kEnd), timings=False)\n",
    "visualizer.fit(dtivo_std)\n",
    "visualizer.show()"
   ]
  },
  {
   "cell_type": "markdown",
   "id": "a8d5c923",
   "metadata": {},
   "source": [
    "#### Silhouette Score"
   ]
  },
  {
   "cell_type": "markdown",
   "id": "e032a8f9",
   "metadata": {},
   "source": [
    "##### Average Silhouette Score"
   ]
  },
  {
   "cell_type": "code",
   "execution_count": null,
   "id": "6fa5c1d1",
   "metadata": {},
   "outputs": [],
   "source": [
    "#TODO-25: Change the metric to 'silhouette'\n",
    "vizElbowSil = KElbowVisualizer(km,\n",
    "                               metric='silhouette',\n",
    "                               k=(kBegin, kEnd),\n",
    "                               timings=False)\n",
    "vizElbowSil.fit(dtivo_std)\n",
    "vizElbowSil.show()"
   ]
  },
  {
   "cell_type": "markdown",
   "id": "8079e486",
   "metadata": {},
   "source": [
    "##### Detailed Silhouette per Clustering"
   ]
  },
  {
   "cell_type": "code",
   "execution_count": 42,
   "id": "7632dbb2",
   "metadata": {},
   "outputs": [],
   "source": [
    "dtivo_std.to_csv(\"outputs\\dtivo_reduced_std.csv\")"
   ]
  },
  {
   "cell_type": "code",
   "execution_count": 43,
   "id": "cabd665a",
   "metadata": {},
   "outputs": [],
   "source": [
    "#TODO-26: Import correct Visualizer\n",
    "from yellowbrick.cluster import SilhouetteVisualizer"
   ]
  },
  {
   "cell_type": "code",
   "execution_count": null,
   "id": "216fcd5a",
   "metadata": {},
   "outputs": [],
   "source": [
    "km = KMeans(n_clusters=6, random_state=111)\n",
    "silViz = SilhouetteVisualizer(km, colors='yellowbrick')\n",
    "silViz.fit(dtivo_std)\n",
    "silViz.show()\n"
   ]
  },
  {
   "cell_type": "code",
   "execution_count": null,
   "id": "4b129d48",
   "metadata": {
    "scrolled": true
   },
   "outputs": [],
   "source": [
    "#TODO-27: Setup and run the SilhouetteVisualizer\n",
    "plt.clf()\n",
    "kStart = 3\n",
    "kStop = 7  #last k for which you want a subplot\n",
    "subx = 0  #staring row index of subplot on which to plot\n",
    "fig, ax = plt.subplots(kStop - kStart, 1,\n",
    "                       figsize=(7, 16), sharex=True)\n",
    "fig.tight_layout(pad=5.0)\n",
    "for i in range(kStart, kStop):\n",
    "    ax[subx].set_title(f\"Silhouette values for k= {i}\")\n",
    "    ax[subx].tick_params(labelbottom=True)\n",
    "    km = KMeans(n_clusters=i, random_state=111)\n",
    "    silViz = SilhouetteVisualizer(km, colors='yellowbrick', ax=ax[subx])\n",
    "    silViz.fit(dtivo_std)\n",
    "    silViz.finalize()\n",
    "    subx += 1"
   ]
  },
  {
   "cell_type": "markdown",
   "id": "97825bbe",
   "metadata": {},
   "source": [
    "### Clustering using best k in k=3 to k=6 range"
   ]
  },
  {
   "cell_type": "markdown",
   "id": "33f23ef2",
   "metadata": {},
   "source": [
    "#### Fitting the k-means model for k= 6"
   ]
  },
  {
   "cell_type": "code",
   "execution_count": 49,
   "id": "f6d421a8",
   "metadata": {
    "scrolled": true
   },
   "outputs": [],
   "source": [
    "k6_model = KMeans(n_clusters=6, \n",
    "                  random_state=111).fit(dtivo_std)"
   ]
  },
  {
   "cell_type": "markdown",
   "id": "d1bed8c5",
   "metadata": {},
   "source": [
    "#### Tagging the segmentation bases dataset with cluster numbers"
   ]
  },
  {
   "cell_type": "code",
   "execution_count": null,
   "id": "b1d9d841",
   "metadata": {},
   "outputs": [],
   "source": [
    "dtivo_k6 = dtivo_bases.copy()\n",
    "dtivo_k6['k6'] = k6_model.labels_\n",
    "dtivo_k6.head()"
   ]
  },
  {
   "cell_type": "markdown",
   "id": "3cbd10fa",
   "metadata": {},
   "source": [
    "#### Cluster Analysis k=6"
   ]
  },
  {
   "cell_type": "markdown",
   "id": "abb1a879",
   "metadata": {},
   "source": [
    "#### Basic summary table"
   ]
  },
  {
   "cell_type": "code",
   "execution_count": null,
   "id": "6a574b62",
   "metadata": {},
   "outputs": [],
   "source": [
    "pivot_k6 = dtivo_k6.groupby('k6').agg(['mean', 'std']).round(1)\n",
    "pivot_k6.insert(0, 'Size', dtivo_k6.groupby('k6').size())\n",
    "pivot_k6"
   ]
  },
  {
   "cell_type": "code",
   "execution_count": null,
   "id": "cbdd6801",
   "metadata": {},
   "outputs": [],
   "source": [
    "#TODO-27: What fields are being multiplied to get value the segment?\n",
    "k6_segValues = pivot_k6['ElecSpend_Annual']['mean']*pivot_k6['Size']\n",
    "k6_segValues = k6_segValues.sort_values(ascending=False)\n",
    "k6_segValues.map('${:,.0f}'.format)  #after : comes the formating --> , for commas and .0f for 0 decimal places float"
   ]
  },
  {
   "cell_type": "code",
   "execution_count": 54,
   "id": "6cf1d0d9",
   "metadata": {},
   "outputs": [],
   "source": [
    "pivot_k6.to_excel('outputs/pivot_k6_tivo.xlsx')"
   ]
  },
  {
   "cell_type": "markdown",
   "id": "99db5a93",
   "metadata": {},
   "source": [
    "#### Summary table with Heatmap (k=6)"
   ]
  },
  {
   "cell_type": "code",
   "execution_count": 55,
   "id": "3978b880",
   "metadata": {},
   "outputs": [],
   "source": [
    "pk6mins = pivot_k6.min(0)\n",
    "pk6maxs = pivot_k6.max(0)\n",
    "mm_pivot = (pivot_k6 - pk6mins)/(pk6maxs-pk6mins)"
   ]
  },
  {
   "cell_type": "code",
   "execution_count": null,
   "id": "21d1dae9",
   "metadata": {},
   "outputs": [],
   "source": [
    "fig = plt.figure(figsize=(10, 5))\n",
    "pk6_map = sns.heatmap(\n",
    "    mm_pivot,\n",
    "    annot=pivot_k6,  #actual pivot becomes annotation\n",
    "    cmap='coolwarm_r',\n",
    "    cbar=False,\n",
    "    fmt='.1f',\n",
    "    lw=0.01)\n",
    "\n",
    "pk6_map.set(xlabel='Segmentation Bases',\n",
    "           ylabel = 'Cluster')\n",
    "plt.show()"
   ]
  },
  {
   "cell_type": "markdown",
   "id": "6921137b",
   "metadata": {},
   "source": [
    "#### Box Plots of k=6 clusters by bases"
   ]
  },
  {
   "cell_type": "code",
   "execution_count": null,
   "id": "938f91f2",
   "metadata": {},
   "outputs": [],
   "source": [
    "#TODO-28: We have to use the standardized dataframe to show all features on one scale\n",
    "dtivo_stdk6 = dtivo_std.copy()\n",
    "dtivo_stdk6['k6'] = k6_model.labels_\n",
    "dtivo_stdk6.head()"
   ]
  },
  {
   "cell_type": "code",
   "execution_count": null,
   "id": "c3d463e5",
   "metadata": {
    "scrolled": true
   },
   "outputs": [],
   "source": [
    "#TODO-29: Tag the standardized dataframe for a common scale plot\n",
    "medprops = dict(linewidth=3)\n",
    "gpbxplot = dtivo_stdk6.groupby('k6').boxplot(column=colsKept,\n",
    "                                             figsize=(12, 12),\n",
    "                                             patch_artist=True,     #patches are the boxes - True allows us to change its colors\n",
    "                                             medianprops=medprops)  #can change the median line properties using median props\n",
    "plt.tight_layout(pad=2.0)"
   ]
  },
  {
   "cell_type": "markdown",
   "id": "14f7f92d",
   "metadata": {},
   "source": [
    "Can choose colormap options from https://matplotlib.org/stable/gallery/color/colormap_reference.html"
   ]
  },
  {
   "cell_type": "code",
   "execution_count": null,
   "id": "f0bae4fb",
   "metadata": {
    "scrolled": true
   },
   "outputs": [],
   "source": [
    "#Have different color and titles for each boxplot\n",
    "#TODO-30: Choose a matplotlib colormap profile\n",
    "bxcmap = plt.cm.get_cmap('plasma', len(colsKept))\n",
    "bxcmap"
   ]
  },
  {
   "cell_type": "code",
   "execution_count": null,
   "id": "95ccfbd1",
   "metadata": {},
   "outputs": [],
   "source": [
    "bxcolors = [bxcmap(i) for i in range(0,len(colsKept))]\n",
    "bxcolors #in RGB-Alpha form"
   ]
  },
  {
   "cell_type": "code",
   "execution_count": null,
   "id": "d224b9c2",
   "metadata": {},
   "outputs": [],
   "source": [
    "#TODO-31: How do we change the colors of each groupby boxplot subplot?\n",
    "#f\"...\" are f-strings or formatted strings.  They allow using variables between curly brackets {}\n",
    "for i, ax in enumerate(gpbxplot):\n",
    "    ax.set_title(f\"CLUSTER {i}: Size ={pivot_k6.loc[i,'Size'].iat[0]}\")\n",
    "    ax.tick_params(labelleft=True)\n",
    "    for j, patch in enumerate(ax.patches):\n",
    "        patch.set_facecolor(bxcolors[j])\n",
    "plt.tight_layout(pad=3.0)\n",
    "gpbxplot[1].get_figure()"
   ]
  },
  {
   "cell_type": "code",
   "execution_count": 62,
   "id": "2d20a13e",
   "metadata": {},
   "outputs": [],
   "source": [
    "#TODO-32: How do we save the plot?\n",
    "fig_k6boxplot = gpbxplot[1].get_figure()\n",
    "fig_k6boxplot.savefig('figs/boxplot_k6.png', dpi=400)"
   ]
  },
  {
   "cell_type": "markdown",
   "id": "aa3329b4",
   "metadata": {},
   "source": [
    "## TODO-21: k=5"
   ]
  },
  {
   "cell_type": "markdown",
   "id": "92908107",
   "metadata": {},
   "source": [
    "### TODO-22: Recommendations: quality of k=5 vs. k=4 solution and which segment to target?"
   ]
  },
  {
   "cell_type": "markdown",
   "id": "95a87e2c",
   "metadata": {},
   "source": [
    "<div class=\"alert alert-block alert-info\">Compare your 5 cluster solution with the earlier 4 cluster one:<br>\n",
    "- is the extra cluster identified worth marketing to?<br>\n",
    "- Based on the 5 segments solution, which segment(s) should TiVo target<br>\n",
    "  to fulfill its marketing objective?<br>\n",
    "- What does it imply for the 4Ps.</div>"
   ]
  },
  {
   "cell_type": "code",
   "execution_count": null,
   "id": "7dac7ae2",
   "metadata": {},
   "outputs": [],
   "source": []
  }
 ],
 "metadata": {
  "kernelspec": {
   "display_name": "Python 3",
   "language": "python",
   "name": "python3"
  },
  "language_info": {
   "codemirror_mode": {
    "name": "ipython",
    "version": 3
   },
   "file_extension": ".py",
   "mimetype": "text/x-python",
   "name": "python",
   "nbconvert_exporter": "python",
   "pygments_lexer": "ipython3",
   "version": "3.12.1"
  },
  "toc": {
   "base_numbering": 1,
   "nav_menu": {},
   "number_sections": true,
   "sideBar": true,
   "skip_h1_title": true,
   "title_cell": "Table of Contents",
   "title_sidebar": "Contents",
   "toc_cell": false,
   "toc_position": {
    "height": "calc(100% - 180px)",
    "left": "10px",
    "top": "150px",
    "width": "372px"
   },
   "toc_section_display": true,
   "toc_window_display": false
  },
  "varInspector": {
   "cols": {
    "lenName": 16,
    "lenType": 16,
    "lenVar": 40
   },
   "kernels_config": {
    "python": {
     "delete_cmd_postfix": "",
     "delete_cmd_prefix": "del ",
     "library": "var_list.py",
     "varRefreshCmd": "print(var_dic_list())"
    },
    "r": {
     "delete_cmd_postfix": ") ",
     "delete_cmd_prefix": "rm(",
     "library": "var_list.r",
     "varRefreshCmd": "cat(var_dic_list()) "
    }
   },
   "types_to_exclude": [
    "module",
    "function",
    "builtin_function_or_method",
    "instance",
    "_Feature"
   ],
   "window_display": false
  }
 },
 "nbformat": 4,
 "nbformat_minor": 5
}
